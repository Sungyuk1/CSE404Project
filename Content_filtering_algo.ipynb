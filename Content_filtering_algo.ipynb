{
 "cells": [
  {
   "attachments": {},
   "cell_type": "markdown",
   "metadata": {},
   "source": [
    "This Notebook will create a collaborative learing algorithm for recommending NFTs\n",
    "\n",
    "Import NFT dataset. It can be downloaded from this URL : https://www.kaggle.com/datasets/hemil26/nft-collections-dataset?resource=download\n",
    "\n",
    "Define package usage"
   ]
  },
  {
   "cell_type": "code",
   "execution_count": 1,
   "metadata": {},
   "outputs": [],
   "source": [
    "import pandas as pd\n",
    "from sklearn.feature_extraction.text import TfidfVectorizer\n",
    "from sklearn.metrics.pairwise import cosine_similarity"
   ]
  },
  {
   "attachments": {},
   "cell_type": "markdown",
   "metadata": {},
   "source": [
    "Get data from file"
   ]
  },
  {
   "cell_type": "code",
   "execution_count": 2,
   "metadata": {},
   "outputs": [],
   "source": [
    "# Load the dataset\n",
    "df = pd.read_csv('nft_sales.csv')\n",
    "\n",
    "# Convert the collections column to a list of strings\n",
    "collections = df['Collections'].tolist()\n",
    "sales = df['Sales'].tolist()"
   ]
  },
  {
   "attachments": {},
   "cell_type": "markdown",
   "metadata": {},
   "source": [
    "Fit model"
   ]
  },
  {
   "cell_type": "code",
   "execution_count": 3,
   "metadata": {},
   "outputs": [],
   "source": [
    "# Create a TF-IDF vectorizer\n",
    "tfidf_vectorizer = TfidfVectorizer()\n",
    "\n",
    "# Fit and transform the vectorizer on the collections column\n",
    "tfidf_matrix = tfidf_vectorizer.fit_transform(sales)"
   ]
  },
  {
   "attachments": {},
   "cell_type": "markdown",
   "metadata": {},
   "source": [
    "Define users ownership as a dictionary with the name of collections followed by the number owned from that collection"
   ]
  },
  {
   "cell_type": "code",
   "execution_count": 4,
   "metadata": {},
   "outputs": [],
   "source": [
    "# Get the user's current NFT ownership by collection\n",
    "user_ownership = {'CryptoKitties': 8, 'Art Blocks': 2, 'NBA Top Shot': 1, 'Meebits': 1}"
   ]
  },
  {
   "attachments": {},
   "cell_type": "markdown",
   "metadata": {},
   "source": [
    "Run the model to get recommended nft collections"
   ]
  },
  {
   "cell_type": "code",
   "execution_count": 5,
   "metadata": {},
   "outputs": [
    {
     "name": "stdout",
     "output_type": "stream",
     "text": [
      "['ZombieClub Token', 'Boss Beauties', 'Autoglyphs', 'Treeverse', 'Crypto Unicorns']\n"
     ]
    }
   ],
   "source": [
    "# Calculate the TF-IDF matrix for the user's collections\n",
    "user_collection_descriptions = []\n",
    "for collection in user_ownership.keys():\n",
    "    description = df[df['Collections'] == collection]['Sales'].values[0]\n",
    "    user_collection_descriptions.append(description)\n",
    "user_tfidf_matrix = tfidf_vectorizer.transform(user_collection_descriptions)\n",
    "\n",
    "# Calculate the cosine similarity between the user's collections and all other collections\n",
    "cosine_similarities = cosine_similarity(user_tfidf_matrix, tfidf_matrix)\n",
    "\n",
    "# Get the indices of the top 5 most similar collections\n",
    "dic = {}\n",
    "for i in range(len(cosine_similarities)):\n",
    "    for j in range(len(cosine_similarities[i])):\n",
    "        comp = cosine_similarities[i, j]\n",
    "        if 0 < comp < 1:\n",
    "            collection_name = str(df.iloc[j].at['Collections'])\n",
    "            value = (list(user_ownership.values())[i] / sum(user_ownership.values())) * comp\n",
    "            if collection_name in dic:\n",
    "                dic[collection_name] += value\n",
    "            else:\n",
    "                dic[collection_name] = value\n",
    "\n",
    "sorted_dic = dict(sorted(dic.items(), key=lambda x: x[1], reverse=True))\n",
    "col_names = list(sorted_dic.keys())[:5]\n",
    "print(col_names)"
   ]
  }
 ],
 "metadata": {
  "kernelspec": {
   "display_name": "Python 3 (ipykernel)",
   "language": "python",
   "name": "python3"
  },
  "language_info": {
   "codemirror_mode": {
    "name": "ipython",
    "version": 3
   },
   "file_extension": ".py",
   "mimetype": "text/x-python",
   "name": "python",
   "nbconvert_exporter": "python",
   "pygments_lexer": "ipython3",
   "version": "3.10.1"
  },
  "mimir": {
   "data": {},
   "last_submission_id": "",
   "project_id": "b76d248f-49a8-44d9-b97e-e16387e12944"
  },
  "varInspector": {
   "cols": {
    "lenName": 16,
    "lenType": 16,
    "lenVar": 40
   },
   "kernels_config": {
    "python": {
     "delete_cmd_postfix": "",
     "delete_cmd_prefix": "del ",
     "library": "var_list.py",
     "varRefreshCmd": "print(var_dic_list())"
    },
    "r": {
     "delete_cmd_postfix": ") ",
     "delete_cmd_prefix": "rm(",
     "library": "var_list.r",
     "varRefreshCmd": "cat(var_dic_list()) "
    }
   },
   "types_to_exclude": [
    "module",
    "function",
    "builtin_function_or_method",
    "instance",
    "_Feature"
   ],
   "window_display": false
  }
 },
 "nbformat": 4,
 "nbformat_minor": 2
}
