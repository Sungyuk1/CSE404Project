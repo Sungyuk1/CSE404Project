{
 "cells": [
  {
   "cell_type": "markdown",
   "metadata": {},
   "source": [
    "Given that spring break is on the way, you have a longer time for this assignment and I included two steps for this. Step 1 is the reader and you need to have that correctly done. Step 2 is more for your exploration and learning at this stage, try to do something about it as much as you can, a naive initial model would be ok here.\n",
    "\n",
    "Step 1: Data Reader is a program that reads data items from files and folders into your machine learning program, and creates training/testing examples. Depending on how clean/structured is your data this step might need a bit of work for you.\n",
    "\n",
    "Please, push the code to your GitHub repository and post the commit's URL here in D2L. \n",
    "\n",
    "Step 2: Initial Model. When you have the data reader in place, use a learning algorithm on the data, and evaluate its performance, even a naive initial working model that is made by your team would be sufficient.  Also, please write up the following information: \n",
    "\n",
    "What is the setting of your project? is it supervised, unsupervised, or semisupervised? (I think everybody got supervision for this class though). \n",
    "\n",
    "How you represent X (Features/Representation  and their explanation, justification)\n",
    "How do you represent Y (binary? multi-class? sequences? trees? graphs?)\n",
    "\n",
    "Which libraries you will use?\n",
    "\n",
    "Note that, all this information will be a part of your final project report.\n",
    "\n",
    " --You might use any machine learning or deep learning libraries for your project or even use your own implemented algorithm, in any case, you will need to do the following:\n",
    "\n",
    "Make a test/train split of the data\n",
    "2. Use your machine learning algorithm to learn from your training set\n",
    "3. Evaluate the model with the test set.\n",
    "4. Send a report summary about the model's performance on train and test datasets (it is fine that it is very low at this stage).\n",
    "5. Push your code to your repository on GitHub, and post a link to it here in response to this assignment."
   ]
  },
  {
   "cell_type": "markdown",
   "metadata": {},
   "source": [
    "===================================================================================================================="
   ]
  },
  {
   "cell_type": "markdown",
   "metadata": {},
   "source": [
    "For our first naive initial model we will build a NFT recommendations engine using cosine_similarity. Cosine_similarity appears to be a very popular way to build recommendation engines. For our second model we will build it using Collaborative Filters and test which model provides us with better results. The various recommendation models recommended in our research were Collaborative Filtering (\"Wisdom of the Crowd\") models and Similarity Based recomendatoin models. Our Final model will be which ever one performs better. "
   ]
  },
  {
   "cell_type": "code",
   "execution_count": 1,
   "metadata": {},
   "outputs": [],
   "source": [
    "#Import the libraries we need\n",
    "import numpy as np\n",
    "import pandas as pd\n",
    "from sklearn.metrics.pairwise import cosine_similarity\n",
    "from sklearn.feature_extraction.text import CountVectorizer"
   ]
  },
  {
   "cell_type": "markdown",
   "metadata": {},
   "source": [
    "Import NFT dataset. It can be downloaded from this URL : \n",
    "https://www.kaggle.com/datasets/hemil26/nft-collections-dataset?resource=download"
   ]
  },
  {
   "cell_type": "code",
   "execution_count": 2,
   "metadata": {},
   "outputs": [],
   "source": [
    "data_frame = pd.read_csv('nft_sales.csv', error_bad_lines=False)"
   ]
  },
  {
   "cell_type": "code",
   "execution_count": 3,
   "metadata": {
    "scrolled": false
   },
   "outputs": [
    {
     "data": {
      "text/html": [
       "<div>\n",
       "<style scoped>\n",
       "    .dataframe tbody tr th:only-of-type {\n",
       "        vertical-align: middle;\n",
       "    }\n",
       "\n",
       "    .dataframe tbody tr th {\n",
       "        vertical-align: top;\n",
       "    }\n",
       "\n",
       "    .dataframe thead th {\n",
       "        text-align: right;\n",
       "    }\n",
       "</style>\n",
       "<table border=\"1\" class=\"dataframe\">\n",
       "  <thead>\n",
       "    <tr style=\"text-align: right;\">\n",
       "      <th></th>\n",
       "      <th>Collections</th>\n",
       "      <th>Sales</th>\n",
       "      <th>Buyers</th>\n",
       "      <th>Txns</th>\n",
       "      <th>Owners</th>\n",
       "    </tr>\n",
       "  </thead>\n",
       "  <tbody>\n",
       "    <tr>\n",
       "      <th>0</th>\n",
       "      <td>Axie Infinity</td>\n",
       "      <td>$4,090,222,023</td>\n",
       "      <td>1,790,587</td>\n",
       "      <td>17,670,824</td>\n",
       "      <td>2,130,467</td>\n",
       "    </tr>\n",
       "    <tr>\n",
       "      <th>1</th>\n",
       "      <td>Bored Ape Yacht Club</td>\n",
       "      <td>$2,439,754,017</td>\n",
       "      <td>12,052</td>\n",
       "      <td>32,670</td>\n",
       "      <td>6,586</td>\n",
       "    </tr>\n",
       "    <tr>\n",
       "      <th>2</th>\n",
       "      <td>CryptoPunks</td>\n",
       "      <td>$2,388,467,992</td>\n",
       "      <td>6,076</td>\n",
       "      <td>22,269</td>\n",
       "      <td>3,804</td>\n",
       "    </tr>\n",
       "    <tr>\n",
       "      <th>3</th>\n",
       "      <td>Mutant Ape Yacht Club</td>\n",
       "      <td>$1,744,822,678</td>\n",
       "      <td>23,768</td>\n",
       "      <td>51,775</td>\n",
       "      <td>13,121</td>\n",
       "    </tr>\n",
       "    <tr>\n",
       "      <th>4</th>\n",
       "      <td>Art Blocks</td>\n",
       "      <td>$1,310,734,558</td>\n",
       "      <td>33,549</td>\n",
       "      <td>184,470</td>\n",
       "      <td>36,091</td>\n",
       "    </tr>\n",
       "  </tbody>\n",
       "</table>\n",
       "</div>"
      ],
      "text/plain": [
       "             Collections           Sales     Buyers        Txns     Owners\n",
       "0          Axie Infinity  $4,090,222,023  1,790,587  17,670,824  2,130,467\n",
       "1   Bored Ape Yacht Club  $2,439,754,017     12,052      32,670      6,586\n",
       "2            CryptoPunks  $2,388,467,992      6,076      22,269      3,804\n",
       "3  Mutant Ape Yacht Club  $1,744,822,678     23,768      51,775     13,121\n",
       "4             Art Blocks  $1,310,734,558     33,549     184,470     36,091"
      ]
     },
     "execution_count": 3,
     "metadata": {},
     "output_type": "execute_result"
    }
   ],
   "source": [
    "data_frame.head()"
   ]
  },
  {
   "cell_type": "code",
   "execution_count": 4,
   "metadata": {},
   "outputs": [],
   "source": [
    "#Remove NaN rows\n",
    "data_frame = data_frame.dropna()"
   ]
  },
  {
   "cell_type": "markdown",
   "metadata": {},
   "source": [
    "Since we are using Cosine Similairty for our first recommendations model, we will need to find a way to convert our number inputs into text. We will do this the following way. We first will clean the data by converting each element in a column to a integer value. Then we will find the percentiles of the values in each column. Then we will replace the value with a string denoting what percentile the value belonged in."
   ]
  },
  {
   "cell_type": "code",
   "execution_count": 5,
   "metadata": {
    "scrolled": true
   },
   "outputs": [],
   "source": [
    "#Remove Commas\n",
    "data_frame[\"Owners\"]=data_frame[\"Owners\"].str.replace(',','')\n",
    "#Remove empty rows\n",
    "\n",
    "#turn into int\n",
    "data_frame[\"Owners\"] = data_frame[\"Owners\"].astype(int)"
   ]
  },
  {
   "cell_type": "code",
   "execution_count": 6,
   "metadata": {},
   "outputs": [
    {
     "name": "stdout",
     "output_type": "stream",
     "text": [
      "3253.0\n",
      "4411.0\n",
      "5719.5\n"
     ]
    }
   ],
   "source": [
    "#Get Percentiles\n",
    "print(data_frame[\"Owners\"].quantile(0.25))\n",
    "print(data_frame[\"Owners\"].quantile(0.50))\n",
    "print(data_frame[\"Owners\"].quantile(0.75))"
   ]
  },
  {
   "cell_type": "code",
   "execution_count": 7,
   "metadata": {},
   "outputs": [],
   "source": [
    "#Convert number of owners to text for cosine similarity. This is not the size of the collection. This is the number of unique wallets which own a part of the collection\n",
    "def round_numbers_oweners(number_input):\n",
    "    if number_input < 3253:\n",
    "        return \"small\"\n",
    "    elif number_input < 4411:\n",
    "        return \"medium\"\n",
    "    elif number_input < 5719:\n",
    "        return \"large\"\n",
    "    else:\n",
    "        return \"huge\""
   ]
  },
  {
   "cell_type": "code",
   "execution_count": 8,
   "metadata": {},
   "outputs": [
    {
     "name": "stdout",
     "output_type": "stream",
     "text": [
      "13111.0\n",
      "18437.0\n",
      "24606.5\n"
     ]
    }
   ],
   "source": [
    "#Remove Commas\n",
    "data_frame[\"Txns\"]=data_frame[\"Txns\"].str.replace(',','')\n",
    "#Remove empty rows\n",
    "\n",
    "#turn into int\n",
    "data_frame[\"Txns\"] = data_frame[\"Txns\"].astype(int)\n",
    "\n",
    "#Get Percentiles\n",
    "print(data_frame[\"Txns\"].quantile(0.25))\n",
    "print(data_frame[\"Txns\"].quantile(0.50))\n",
    "print(data_frame[\"Txns\"].quantile(0.75))"
   ]
  },
  {
   "cell_type": "code",
   "execution_count": 9,
   "metadata": {},
   "outputs": [],
   "source": [
    "def round_numbers_transactions(number_input):\n",
    "    if number_input < 13111:\n",
    "        return \"pequeno\"\n",
    "    elif number_input < 18437:\n",
    "        return \"medio\"\n",
    "    elif number_input < 24606:\n",
    "        return \"grande\"\n",
    "    else:\n",
    "        return \"enorme\""
   ]
  },
  {
   "cell_type": "code",
   "execution_count": 10,
   "metadata": {},
   "outputs": [
    {
     "name": "stdout",
     "output_type": "stream",
     "text": [
      "5324.0\n",
      "8239.0\n",
      "11204.5\n"
     ]
    }
   ],
   "source": [
    "#Remove Commas\n",
    "data_frame[\"Buyers\"]=data_frame[\"Buyers\"].str.replace(',','')\n",
    "#Remove empty rows\n",
    "\n",
    "#turn into int\n",
    "data_frame[\"Buyers\"] = data_frame[\"Buyers\"].astype(int)\n",
    "\n",
    "#Get Percentiles\n",
    "print(data_frame[\"Buyers\"].quantile(0.25))\n",
    "print(data_frame[\"Buyers\"].quantile(0.50))\n",
    "print(data_frame[\"Buyers\"].quantile(0.75))"
   ]
  },
  {
   "cell_type": "code",
   "execution_count": 11,
   "metadata": {},
   "outputs": [],
   "source": [
    "def round_numbers_buyers(number_input):\n",
    "    if number_input < 5324:\n",
    "        return \"jageun\"\n",
    "    elif number_input < 8239:\n",
    "        return \"junggan\"\n",
    "    elif number_input < 11204:\n",
    "        return \"keun\"\n",
    "    else:\n",
    "        return \"eomcheongnan\""
   ]
  },
  {
   "cell_type": "code",
   "execution_count": 12,
   "metadata": {},
   "outputs": [
    {
     "name": "stdout",
     "output_type": "stream",
     "text": [
      "29761266.5\n",
      "46444604.0\n",
      "87674392.0\n"
     ]
    }
   ],
   "source": [
    "#Remove Commas\n",
    "data_frame[\"Sales\"]=data_frame[\"Sales\"].str.replace(',','')\n",
    "#Remove Money Sign\n",
    "data_frame[\"Sales\"]=data_frame[\"Sales\"].str.replace('$','')\n",
    "#Remove empty rows\n",
    "\n",
    "#turn into int\n",
    "data_frame[\"Sales\"] = data_frame[\"Sales\"].astype('int64')\n",
    "\n",
    "#Get Percentiles\n",
    "print(data_frame[\"Sales\"].quantile(0.25))\n",
    "print(data_frame[\"Sales\"].quantile(0.50))\n",
    "print(data_frame[\"Sales\"].quantile(0.75))"
   ]
  },
  {
   "cell_type": "code",
   "execution_count": 13,
   "metadata": {},
   "outputs": [],
   "source": [
    "def round_numbers_sales(number_input):\n",
    "    if number_input < 29761266:\n",
    "        return \"petit\"\n",
    "    elif number_input < 46444604:\n",
    "        return \"moyen\"\n",
    "    elif number_input < 87674392:\n",
    "        return \"enorme\"\n",
    "    else:\n",
    "        return \"massif\""
   ]
  },
  {
   "cell_type": "code",
   "execution_count": 14,
   "metadata": {},
   "outputs": [],
   "source": [
    "# Convert Number input into text defining the percentile the value was in\n",
    "data_frame[\"Sales\"]= data_frame[\"Sales\"].apply(round_numbers_sales)\n",
    "data_frame[\"Buyers\"]= data_frame[\"Buyers\"].apply(round_numbers_buyers)\n",
    "data_frame[\"Txns\"]= data_frame[\"Txns\"].apply(round_numbers_transactions)\n",
    "data_frame[\"Owners\"]= data_frame[\"Owners\"].apply(round_numbers_oweners)"
   ]
  },
  {
   "cell_type": "code",
   "execution_count": 15,
   "metadata": {},
   "outputs": [],
   "source": [
    "#This creates a new features column which has text from all of the other coloumns\n",
    "data_frame[\"Features\"] = data_frame[\"Collections\"] + \" \" + (data_frame[\"Sales\"]) + \" \" + (data_frame[\"Buyers\"]) + \" \" + (data_frame[\"Txns\"]) + \" \" + (data_frame[\"Owners\"])"
   ]
  },
  {
   "cell_type": "code",
   "execution_count": 16,
   "metadata": {},
   "outputs": [
    {
     "data": {
      "text/html": [
       "<div>\n",
       "<style scoped>\n",
       "    .dataframe tbody tr th:only-of-type {\n",
       "        vertical-align: middle;\n",
       "    }\n",
       "\n",
       "    .dataframe tbody tr th {\n",
       "        vertical-align: top;\n",
       "    }\n",
       "\n",
       "    .dataframe thead th {\n",
       "        text-align: right;\n",
       "    }\n",
       "</style>\n",
       "<table border=\"1\" class=\"dataframe\">\n",
       "  <thead>\n",
       "    <tr style=\"text-align: right;\">\n",
       "      <th></th>\n",
       "      <th>Collections</th>\n",
       "      <th>Sales</th>\n",
       "      <th>Buyers</th>\n",
       "      <th>Txns</th>\n",
       "      <th>Owners</th>\n",
       "      <th>Features</th>\n",
       "    </tr>\n",
       "  </thead>\n",
       "  <tbody>\n",
       "    <tr>\n",
       "      <th>0</th>\n",
       "      <td>Axie Infinity</td>\n",
       "      <td>massif</td>\n",
       "      <td>eomcheongnan</td>\n",
       "      <td>enorme</td>\n",
       "      <td>huge</td>\n",
       "      <td>Axie Infinity massif eomcheongnan enorme huge</td>\n",
       "    </tr>\n",
       "    <tr>\n",
       "      <th>1</th>\n",
       "      <td>Bored Ape Yacht Club</td>\n",
       "      <td>massif</td>\n",
       "      <td>eomcheongnan</td>\n",
       "      <td>enorme</td>\n",
       "      <td>huge</td>\n",
       "      <td>Bored Ape Yacht Club massif eomcheongnan enorm...</td>\n",
       "    </tr>\n",
       "    <tr>\n",
       "      <th>2</th>\n",
       "      <td>CryptoPunks</td>\n",
       "      <td>massif</td>\n",
       "      <td>junggan</td>\n",
       "      <td>grande</td>\n",
       "      <td>medium</td>\n",
       "      <td>CryptoPunks massif junggan grande medium</td>\n",
       "    </tr>\n",
       "    <tr>\n",
       "      <th>3</th>\n",
       "      <td>Mutant Ape Yacht Club</td>\n",
       "      <td>massif</td>\n",
       "      <td>eomcheongnan</td>\n",
       "      <td>enorme</td>\n",
       "      <td>huge</td>\n",
       "      <td>Mutant Ape Yacht Club massif eomcheongnan enor...</td>\n",
       "    </tr>\n",
       "    <tr>\n",
       "      <th>4</th>\n",
       "      <td>Art Blocks</td>\n",
       "      <td>massif</td>\n",
       "      <td>eomcheongnan</td>\n",
       "      <td>enorme</td>\n",
       "      <td>huge</td>\n",
       "      <td>Art Blocks massif eomcheongnan enorme huge</td>\n",
       "    </tr>\n",
       "  </tbody>\n",
       "</table>\n",
       "</div>"
      ],
      "text/plain": [
       "             Collections   Sales        Buyers    Txns  Owners  \\\n",
       "0          Axie Infinity  massif  eomcheongnan  enorme    huge   \n",
       "1   Bored Ape Yacht Club  massif  eomcheongnan  enorme    huge   \n",
       "2            CryptoPunks  massif       junggan  grande  medium   \n",
       "3  Mutant Ape Yacht Club  massif  eomcheongnan  enorme    huge   \n",
       "4             Art Blocks  massif  eomcheongnan  enorme    huge   \n",
       "\n",
       "                                            Features  \n",
       "0      Axie Infinity massif eomcheongnan enorme huge  \n",
       "1  Bored Ape Yacht Club massif eomcheongnan enorm...  \n",
       "2           CryptoPunks massif junggan grande medium  \n",
       "3  Mutant Ape Yacht Club massif eomcheongnan enor...  \n",
       "4         Art Blocks massif eomcheongnan enorme huge  "
      ]
     },
     "execution_count": 16,
     "metadata": {},
     "output_type": "execute_result"
    }
   ],
   "source": [
    "data_frame.head()"
   ]
  },
  {
   "cell_type": "code",
   "execution_count": 17,
   "metadata": {},
   "outputs": [],
   "source": [
    "#convert text from features to matrix\n",
    "cm = CountVectorizer().fit_transform(data_frame[\"Features\"])"
   ]
  },
  {
   "cell_type": "code",
   "execution_count": 18,
   "metadata": {},
   "outputs": [
    {
     "name": "stdout",
     "output_type": "stream",
     "text": [
      "[[1.         0.57735027 0.18257419 ... 0.         0.         0.16666667]\n",
      " [0.57735027 1.         0.15811388 ... 0.         0.         0.14433757]\n",
      " [0.18257419 0.15811388 1.         ... 0.36514837 0.18257419 0.18257419]\n",
      " ...\n",
      " [0.         0.         0.36514837 ... 1.         0.33333333 0.33333333]\n",
      " [0.         0.         0.18257419 ... 0.33333333 1.         0.33333333]\n",
      " [0.16666667 0.14433757 0.18257419 ... 0.33333333 0.33333333 1.        ]]\n"
     ]
    }
   ],
   "source": [
    "#Get the cosine similarity matrix from the count matrix\n",
    "cs = cosine_similarity(cm)\n",
    "print(cs)"
   ]
  },
  {
   "cell_type": "code",
   "execution_count": 31,
   "metadata": {},
   "outputs": [
    {
     "data": {
      "text/plain": [
       "183"
      ]
     },
     "execution_count": 31,
     "metadata": {},
     "output_type": "execute_result"
    }
   ],
   "source": [
    "#Get the id of the collection\n",
    "collection_id = data_frame[data_frame.Collections == 'Nifty League DEGENs'].index[0]\n",
    "name_of_collection = 'Nifty League DEGENs'\n",
    "collection_id"
   ]
  },
  {
   "cell_type": "code",
   "execution_count": 32,
   "metadata": {},
   "outputs": [
    {
     "name": "stdout",
     "output_type": "stream",
     "text": [
      "[(0, 0.0), (1, 0.0), (2, 0.0), (3, 0.0), (4, 0.0), (5, 0.0), (6, 0.0), (7, 0.19999999999999998), (8, 0.0), (9, 0.0), (10, 0.0), (11, 0.0), (12, 0.0), (13, 0.0), (14, 0.18257418583505539), (15, 0.15811388300841894), (16, 0.39999999999999997), (17, 0.1690308509457033), (18, 0.0), (19, 0.19999999999999998), (20, 0.0), (21, 0.0), (22, 0.39999999999999997), (23, 0.0), (24, 0.0), (25, 0.3380617018914066), (26, 0.18257418583505539), (27, 0.19999999999999998), (28, 0.0), (29, 0.0), (30, 0.36514837167011077), (31, 0.1690308509457033), (32, 0.0), (33, 0.0), (34, 0.19999999999999998), (35, 0.0), (36, 0.18257418583505539), (37, 0.0), (38, 0.0), (39, 0.0), (40, 0.19999999999999998), (41, 0.0), (42, 0.0), (43, 0.0), (44, 0.1690308509457033), (45, 0.0), (46, 0.0), (47, 0.0), (48, 0.18257418583505539), (49, 0.0), (50, 0.1690308509457033), (51, 0.18257418583505539), (52, 0.0), (53, 0.19999999999999998), (54, 0.0), (55, 0.0), (56, 0.0), (57, 0.19999999999999998), (58, 0.14907119849998596), (59, 0.18257418583505539), (60, 0.19999999999999998), (61, 0.1690308509457033), (62, 0.18257418583505539), (63, 0.0), (64, 0.0), (65, 0.3380617018914066), (66, 0.0), (67, 0.1690308509457033), (68, 0.0), (69, 0.0), (70, 0.0), (71, 0.0), (72, 0.19999999999999998), (73, 0.3380617018914066), (74, 0.0), (75, 0.0), (76, 0.0), (77, 0.14907119849998596), (78, 0.19999999999999998), (79, 0.1690308509457033), (80, 0.18257418583505539), (81, 0.0), (82, 0.39999999999999997), (83, 0.0), (84, 0.0), (85, 0.0), (86, 0.0), (87, 0.0), (88, 0.39999999999999997), (89, 0.3380617018914066), (90, 0.3380617018914066), (91, 0.3380617018914066), (92, 0.3380617018914066), (93, 0.0), (94, 0.0), (95, 0.0), (96, 0.0), (97, 0.36514837167011077), (98, 0.1690308509457033), (99, 0.0), (100, 0.1690308509457033), (101, 0.18257418583505539), (102, 0.1690308509457033), (103, 0.15811388300841894), (104, 0.36514837167011077), (105, 0.18257418583505539), (106, 0.18257418583505539), (107, 0.39999999999999997), (108, 0.18257418583505539), (109, 0.0), (110, 0.0), (111, 0.1690308509457033), (112, 0.6), (113, 0.36514837167011077), (114, 0.36514837167011077), (115, 0.0), (116, 0.39999999999999997), (117, 0.0), (118, 0.18257418583505539), (119, 0.19999999999999998), (120, 0.18257418583505539), (121, 0.0), (122, 0.18257418583505539), (123, 0.18257418583505539), (124, 0.1690308509457033), (125, 0.1690308509457033), (126, 0.39999999999999997), (127, 0.0), (128, 0.0), (129, 0.15811388300841894), (130, 0.19999999999999998), (131, 0.3162277660168379), (132, 0.4472135954999579), (133, 0.19999999999999998), (134, 0.0), (135, 0.0), (136, 0.18257418583505539), (137, 0.18257418583505539), (138, 0.1690308509457033), (139, 0.19999999999999998), (140, 0.0), (141, 0.0), (142, 0.0), (143, 0.0), (144, 0.39999999999999997), (145, 0.19999999999999998), (146, 0.0), (147, 0.3380617018914066), (148, 0.36514837167011077), (149, 0.39999999999999997), (150, 0.18257418583505539), (151, 0.15811388300841894), (152, 0.0), (153, 0.39999999999999997), (154, 0.0), (155, 0.0), (156, 0.18257418583505539), (157, 0.0), (158, 0.1690308509457033), (159, 0.36514837167011077), (160, 0.19999999999999998), (161, 0.0), (162, 0.3162277660168379), (163, 0.0), (164, 0.0), (165, 0.19999999999999998), (166, 0.36514837167011077), (167, 0.0), (168, 0.0), (169, 0.36514837167011077), (170, 0.36514837167011077), (171, 0.0), (172, 0.15811388300841894), (173, 0.19999999999999998), (174, 0.18257418583505539), (175, 0.36514837167011077), (176, 0.18257418583505539), (177, 0.36514837167011077), (178, 0.39999999999999997), (179, 0.19999999999999998), (180, 0.19999999999999998), (181, 0.15811388300841894), (182, 0.39999999999999997), (183, 0.9999999999999999), (184, 0.3380617018914066), (185, 0.36514837167011077), (186, 0.5477225575051662), (187, 0.39999999999999997), (188, 0.1690308509457033), (189, 0.36514837167011077), (190, 0.19999999999999998), (191, 0.19999999999999998), (192, 0.39999999999999997), (193, 0.18257418583505539), (194, 0.36514837167011077), (195, 0.18257418583505539), (196, 0.50709255283711), (197, 0.3380617018914066), (198, 0.6), (199, 0.50709255283711), (200, 0.39999999999999997), (201, 0.3380617018914066), (202, 0.1414213562373095), (203, 0.18257418583505539), (204, 0.19999999999999998), (205, 0.1690308509457033), (206, 0.39999999999999997), (207, 0.3380617018914066), (208, 0.50709255283711), (209, 0.19999999999999998), (210, 0.19999999999999998), (211, 0.5477225575051662), (212, 0.6), (213, 0.6), (214, 0.19999999999999998), (215, 0.50709255283711), (216, 0.5477225575051662), (217, 0.6), (218, 0.18257418583505539), (219, 0.18257418583505539), (220, 0.5477225575051662), (221, 0.19999999999999998), (222, 0.6), (223, 0.19999999999999998), (224, 0.47434164902525683), (225, 0.36514837167011077), (226, 0.39999999999999997), (227, 0.19999999999999998), (228, 0.18257418583505539), (229, 0.5477225575051662), (230, 0.18257418583505539)]\n"
     ]
    }
   ],
   "source": [
    "#Create list of tuples in the form (collection_id, similairty_score)\n",
    "scores = list(enumerate(cs[collection_id]))\n",
    "print(scores)"
   ]
  },
  {
   "cell_type": "code",
   "execution_count": 33,
   "metadata": {},
   "outputs": [
    {
     "data": {
      "text/plain": [
       "[(183, 0.9999999999999999),\n",
       " (112, 0.6),\n",
       " (198, 0.6),\n",
       " (212, 0.6),\n",
       " (213, 0.6),\n",
       " (217, 0.6),\n",
       " (222, 0.6),\n",
       " (186, 0.5477225575051662),\n",
       " (211, 0.5477225575051662),\n",
       " (216, 0.5477225575051662),\n",
       " (220, 0.5477225575051662),\n",
       " (229, 0.5477225575051662),\n",
       " (196, 0.50709255283711),\n",
       " (199, 0.50709255283711),\n",
       " (208, 0.50709255283711),\n",
       " (215, 0.50709255283711),\n",
       " (224, 0.47434164902525683),\n",
       " (132, 0.4472135954999579),\n",
       " (16, 0.39999999999999997),\n",
       " (22, 0.39999999999999997),\n",
       " (82, 0.39999999999999997),\n",
       " (88, 0.39999999999999997),\n",
       " (107, 0.39999999999999997),\n",
       " (116, 0.39999999999999997),\n",
       " (126, 0.39999999999999997),\n",
       " (144, 0.39999999999999997),\n",
       " (149, 0.39999999999999997),\n",
       " (153, 0.39999999999999997),\n",
       " (178, 0.39999999999999997),\n",
       " (182, 0.39999999999999997),\n",
       " (187, 0.39999999999999997),\n",
       " (192, 0.39999999999999997),\n",
       " (200, 0.39999999999999997),\n",
       " (206, 0.39999999999999997),\n",
       " (226, 0.39999999999999997),\n",
       " (30, 0.36514837167011077),\n",
       " (97, 0.36514837167011077),\n",
       " (104, 0.36514837167011077),\n",
       " (113, 0.36514837167011077),\n",
       " (114, 0.36514837167011077),\n",
       " (148, 0.36514837167011077),\n",
       " (159, 0.36514837167011077),\n",
       " (166, 0.36514837167011077),\n",
       " (169, 0.36514837167011077),\n",
       " (170, 0.36514837167011077),\n",
       " (175, 0.36514837167011077),\n",
       " (177, 0.36514837167011077),\n",
       " (185, 0.36514837167011077),\n",
       " (189, 0.36514837167011077),\n",
       " (194, 0.36514837167011077),\n",
       " (225, 0.36514837167011077),\n",
       " (25, 0.3380617018914066),\n",
       " (65, 0.3380617018914066),\n",
       " (73, 0.3380617018914066),\n",
       " (89, 0.3380617018914066),\n",
       " (90, 0.3380617018914066),\n",
       " (91, 0.3380617018914066),\n",
       " (92, 0.3380617018914066),\n",
       " (147, 0.3380617018914066),\n",
       " (184, 0.3380617018914066),\n",
       " (197, 0.3380617018914066),\n",
       " (201, 0.3380617018914066),\n",
       " (207, 0.3380617018914066),\n",
       " (131, 0.3162277660168379),\n",
       " (162, 0.3162277660168379),\n",
       " (7, 0.19999999999999998),\n",
       " (19, 0.19999999999999998),\n",
       " (27, 0.19999999999999998),\n",
       " (34, 0.19999999999999998),\n",
       " (40, 0.19999999999999998),\n",
       " (53, 0.19999999999999998),\n",
       " (57, 0.19999999999999998),\n",
       " (60, 0.19999999999999998),\n",
       " (72, 0.19999999999999998),\n",
       " (78, 0.19999999999999998),\n",
       " (119, 0.19999999999999998),\n",
       " (130, 0.19999999999999998),\n",
       " (133, 0.19999999999999998),\n",
       " (139, 0.19999999999999998),\n",
       " (145, 0.19999999999999998),\n",
       " (160, 0.19999999999999998),\n",
       " (165, 0.19999999999999998),\n",
       " (173, 0.19999999999999998),\n",
       " (179, 0.19999999999999998),\n",
       " (180, 0.19999999999999998),\n",
       " (190, 0.19999999999999998),\n",
       " (191, 0.19999999999999998),\n",
       " (204, 0.19999999999999998),\n",
       " (209, 0.19999999999999998),\n",
       " (210, 0.19999999999999998),\n",
       " (214, 0.19999999999999998),\n",
       " (221, 0.19999999999999998),\n",
       " (223, 0.19999999999999998),\n",
       " (227, 0.19999999999999998),\n",
       " (14, 0.18257418583505539),\n",
       " (26, 0.18257418583505539),\n",
       " (36, 0.18257418583505539),\n",
       " (48, 0.18257418583505539),\n",
       " (51, 0.18257418583505539),\n",
       " (59, 0.18257418583505539),\n",
       " (62, 0.18257418583505539),\n",
       " (80, 0.18257418583505539),\n",
       " (101, 0.18257418583505539),\n",
       " (105, 0.18257418583505539),\n",
       " (106, 0.18257418583505539),\n",
       " (108, 0.18257418583505539),\n",
       " (118, 0.18257418583505539),\n",
       " (120, 0.18257418583505539),\n",
       " (122, 0.18257418583505539),\n",
       " (123, 0.18257418583505539),\n",
       " (136, 0.18257418583505539),\n",
       " (137, 0.18257418583505539),\n",
       " (150, 0.18257418583505539),\n",
       " (156, 0.18257418583505539),\n",
       " (174, 0.18257418583505539),\n",
       " (176, 0.18257418583505539),\n",
       " (193, 0.18257418583505539),\n",
       " (195, 0.18257418583505539),\n",
       " (203, 0.18257418583505539),\n",
       " (218, 0.18257418583505539),\n",
       " (219, 0.18257418583505539),\n",
       " (228, 0.18257418583505539),\n",
       " (230, 0.18257418583505539),\n",
       " (17, 0.1690308509457033),\n",
       " (31, 0.1690308509457033),\n",
       " (44, 0.1690308509457033),\n",
       " (50, 0.1690308509457033),\n",
       " (61, 0.1690308509457033),\n",
       " (67, 0.1690308509457033),\n",
       " (79, 0.1690308509457033),\n",
       " (98, 0.1690308509457033),\n",
       " (100, 0.1690308509457033),\n",
       " (102, 0.1690308509457033),\n",
       " (111, 0.1690308509457033),\n",
       " (124, 0.1690308509457033),\n",
       " (125, 0.1690308509457033),\n",
       " (138, 0.1690308509457033),\n",
       " (158, 0.1690308509457033),\n",
       " (188, 0.1690308509457033),\n",
       " (205, 0.1690308509457033),\n",
       " (15, 0.15811388300841894),\n",
       " (103, 0.15811388300841894),\n",
       " (129, 0.15811388300841894),\n",
       " (151, 0.15811388300841894),\n",
       " (172, 0.15811388300841894),\n",
       " (181, 0.15811388300841894),\n",
       " (58, 0.14907119849998596),\n",
       " (77, 0.14907119849998596),\n",
       " (202, 0.1414213562373095),\n",
       " (0, 0.0),\n",
       " (1, 0.0),\n",
       " (2, 0.0),\n",
       " (3, 0.0),\n",
       " (4, 0.0),\n",
       " (5, 0.0),\n",
       " (6, 0.0),\n",
       " (8, 0.0),\n",
       " (9, 0.0),\n",
       " (10, 0.0),\n",
       " (11, 0.0),\n",
       " (12, 0.0),\n",
       " (13, 0.0),\n",
       " (18, 0.0),\n",
       " (20, 0.0),\n",
       " (21, 0.0),\n",
       " (23, 0.0),\n",
       " (24, 0.0),\n",
       " (28, 0.0),\n",
       " (29, 0.0),\n",
       " (32, 0.0),\n",
       " (33, 0.0),\n",
       " (35, 0.0),\n",
       " (37, 0.0),\n",
       " (38, 0.0),\n",
       " (39, 0.0),\n",
       " (41, 0.0),\n",
       " (42, 0.0),\n",
       " (43, 0.0),\n",
       " (45, 0.0),\n",
       " (46, 0.0),\n",
       " (47, 0.0),\n",
       " (49, 0.0),\n",
       " (52, 0.0),\n",
       " (54, 0.0),\n",
       " (55, 0.0),\n",
       " (56, 0.0),\n",
       " (63, 0.0),\n",
       " (64, 0.0),\n",
       " (66, 0.0),\n",
       " (68, 0.0),\n",
       " (69, 0.0),\n",
       " (70, 0.0),\n",
       " (71, 0.0),\n",
       " (74, 0.0),\n",
       " (75, 0.0),\n",
       " (76, 0.0),\n",
       " (81, 0.0),\n",
       " (83, 0.0),\n",
       " (84, 0.0),\n",
       " (85, 0.0),\n",
       " (86, 0.0),\n",
       " (87, 0.0),\n",
       " (93, 0.0),\n",
       " (94, 0.0),\n",
       " (95, 0.0),\n",
       " (96, 0.0),\n",
       " (99, 0.0),\n",
       " (109, 0.0),\n",
       " (110, 0.0),\n",
       " (115, 0.0),\n",
       " (117, 0.0),\n",
       " (121, 0.0),\n",
       " (127, 0.0),\n",
       " (128, 0.0),\n",
       " (134, 0.0),\n",
       " (135, 0.0),\n",
       " (140, 0.0),\n",
       " (141, 0.0),\n",
       " (142, 0.0),\n",
       " (143, 0.0),\n",
       " (146, 0.0),\n",
       " (152, 0.0),\n",
       " (154, 0.0),\n",
       " (155, 0.0),\n",
       " (157, 0.0),\n",
       " (161, 0.0),\n",
       " (163, 0.0),\n",
       " (164, 0.0),\n",
       " (167, 0.0),\n",
       " (168, 0.0),\n",
       " (171, 0.0)]"
      ]
     },
     "execution_count": 33,
     "metadata": {},
     "output_type": "execute_result"
    }
   ],
   "source": [
    "#Sort Similarity Scores from highest to lowest\n",
    "scores_sorted = sorted(scores, key=lambda x:x[1], reverse=True)\n",
    "scores_sorted"
   ]
  },
  {
   "cell_type": "code",
   "execution_count": 37,
   "metadata": {},
   "outputs": [
    {
     "name": "stdout",
     "output_type": "stream",
     "text": [
      "1 : BAPETAVERSE\n",
      "2 : Akutars\n",
      "3 : Chimpers\n",
      "4 : Voxies\n",
      "5 : Nouns\n",
      "6 : Solsteads\n",
      "7 : Deafbeef\n",
      "8 : X Rabbits Club\n",
      "9 : Cupcats Official\n",
      "10 : Llamaverse Genesis\n",
      "11 : Stoner Cats\n"
     ]
    }
   ],
   "source": [
    "#Get the 10 most similar NFT Collections\n",
    "j = 1\n",
    "for i in range(0, 11):\n",
    "    collection_name = data_frame.iloc[scores_sorted[i][0]].values[0]\n",
    "    if collection_name != name_of_collection:\n",
    "        print(str(j) + \" : \" + collection_name)\n",
    "        j+=1\n",
    "    "
   ]
  },
  {
   "cell_type": "code",
   "execution_count": 38,
   "metadata": {},
   "outputs": [],
   "source": [
    "#Now creating a function which will do the following for us\n",
    "def getRecommendations(input_collection_name):\n",
    "    collection_id = data_frame[data_frame.Collections == input_collection_name].index[0]\n",
    "    scores = list(enumerate(cs[collection_id]))\n",
    "    scores_sorted = sorted(scores, key=lambda x:x[1], reverse=True)\n",
    "    \n",
    "    j = 1\n",
    "    for i in range(0, 11):\n",
    "        collection_name = data_frame.iloc[scores_sorted[i][0]].values[0]\n",
    "        if collection_name != input_collection_name:\n",
    "            print(str(j) + \" : \" +collection_name)\n",
    "            j+=1\n"
   ]
  },
  {
   "cell_type": "code",
   "execution_count": 39,
   "metadata": {},
   "outputs": [
    {
     "name": "stdout",
     "output_type": "stream",
     "text": [
      "1 : FLUF World\n",
      "2 : Cryptoadz\n",
      "3 : CyberBrokers\n",
      "4 : Aurory\n",
      "5 : Hashmasks\n",
      "6 : Animetas\n",
      "7 : Acrocalypse\n",
      "8 : 0N1 Force\n",
      "9 : Emblem Vault\n",
      "10 : Vox Collectibles\n"
     ]
    }
   ],
   "source": [
    "getRecommendations(\"CryptoPunks\")"
   ]
  },
  {
   "cell_type": "code",
   "execution_count": 40,
   "metadata": {},
   "outputs": [
    {
     "name": "stdout",
     "output_type": "stream",
     "text": [
      "1 : ApeKidsClub\n",
      "2 : Smilesss\n",
      "3 : SolPunks\n",
      "4 : The Humanoids\n",
      "5 : Koala Intelligence Agency\n",
      "6 : the littles NFT\n",
      "7 : EveraiDuo\n",
      "8 : Shinsekai\n",
      "9 : CatBloxGenesis\n",
      "10 : Arcade Land\n",
      "11 : Galaxy Eggs\n"
     ]
    }
   ],
   "source": [
    "getRecommendations(\"ZombieClub Token\")"
   ]
  },
  {
   "cell_type": "code",
   "execution_count": 41,
   "metadata": {},
   "outputs": [
    {
     "name": "stdout",
     "output_type": "stream",
     "text": [
      "1 : Antonym\n",
      "2 : Cryptoadz\n",
      "3 : Pixelmon\n",
      "4 : CryptoSkulls\n",
      "5 : GalacticApes\n",
      "6 : MutantCats\n",
      "7 : Shinsekai\n",
      "8 : CatBloxGenesis\n",
      "9 : Acrocalypse\n",
      "10 : 0N1 Force\n",
      "11 : Sup Ducks\n"
     ]
    }
   ],
   "source": [
    "getRecommendations(\"MoodRollers\")"
   ]
  },
  {
   "cell_type": "markdown",
   "metadata": {},
   "source": [
    "Testing this model is a bit different from the various classification models covered in class. Since this is a recommendations model, the only real way to see if our model is working would be to show the recommendations to real users and ask them to rate our recommendations. Testing will be different for our Collaborative Filtering Model, since we can test to see if a user belongs to certain groups or not"
   ]
  },
  {
   "cell_type": "markdown",
   "metadata": {},
   "source": []
  }
 ],
 "metadata": {
  "kernelspec": {
   "display_name": "Python 3",
   "language": "python",
   "name": "python3"
  },
  "language_info": {
   "codemirror_mode": {
    "name": "ipython",
    "version": 3
   },
   "file_extension": ".py",
   "mimetype": "text/x-python",
   "name": "python",
   "nbconvert_exporter": "python",
   "pygments_lexer": "ipython3",
   "version": "3.8.3"
  }
 },
 "nbformat": 4,
 "nbformat_minor": 4
}
