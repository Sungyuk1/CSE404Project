{
 "cells": [
  {
   "cell_type": "code",
   "execution_count": 25,
   "id": "53dea1a9",
   "metadata": {},
   "outputs": [],
   "source": [
    "import numpy as np\n",
    "import pandas as pd\n",
    "import csv\n",
    "import matplotlib.pyplot as plt\n",
    "\n",
    "from sklearn.linear_model import LinearRegression\n",
    "from sklearn.metrics import r2_score"
   ]
  },
  {
   "cell_type": "code",
   "execution_count": 15,
   "id": "93c80236",
   "metadata": {},
   "outputs": [
    {
     "data": {
      "text/plain": [
       "array([  0,   1,   2,   3,   4,   5,   6,   7,   8,   9,  10,  11,  12,\n",
       "        13,  14,  15,  16,  17,  18,  19,  20,  21,  22,  23,  24,  25,\n",
       "        26,  27,  28,  29,  30,  31,  32,  33,  34,  35,  36,  37,  38,\n",
       "        39,  40,  41,  42,  43,  44,  45,  46,  47,  48,  49,  50,  51,\n",
       "        52,  53,  54,  55,  56,  57,  58,  59,  60,  61,  62,  63,  64,\n",
       "        65,  66,  67,  68,  69,  70,  71,  72,  73,  74,  75,  76,  77,\n",
       "        78,  79,  80,  81,  82,  83,  84,  85,  86,  87,  88,  89,  90,\n",
       "        91,  92,  93,  94,  95,  96,  97,  98,  99, 100, 101, 102, 103,\n",
       "       104, 105, 106, 107, 108, 109, 110, 111, 112, 113, 114, 115, 116,\n",
       "       117, 118, 119, 120, 121, 122, 123, 124, 125, 126, 127, 128, 129,\n",
       "       130, 131, 132, 133, 134, 135, 136, 137, 138, 139, 140, 141, 142,\n",
       "       143, 144, 145, 146, 147, 148, 149, 150, 151, 152, 153, 154, 155,\n",
       "       156, 157, 158, 159, 160, 161, 162, 163, 164, 165, 166, 167, 168,\n",
       "       169, 170, 171, 172, 173, 174, 175, 176, 177, 178, 179, 180, 181,\n",
       "       182, 183, 184, 185, 186, 187, 188, 189, 190, 191, 192, 193, 194,\n",
       "       195, 196, 197, 198, 199, 200, 201, 202, 203, 204, 205, 206, 207,\n",
       "       208, 209, 210, 211, 212, 213, 214, 215, 216, 217, 218, 219, 220,\n",
       "       221, 222, 223, 224, 225, 226, 227, 228, 229, 230, 231, 232, 233,\n",
       "       234, 235, 236, 237, 238, 239, 240, 241, 242, 243, 244, 245, 246,\n",
       "       247, 248, 249])"
      ]
     },
     "execution_count": 15,
     "metadata": {},
     "output_type": "execute_result"
    }
   ],
   "source": [
    "fp = open('nft_sales.csv')\n",
    "data = []\n",
    "reader = csv.reader(fp)\n",
    "first = True\n",
    "x = []\n",
    "y = np.array([i for i in range(250)])\n",
    "for line in reader: \n",
    "    if first:\n",
    "        first = False\n",
    "        continue\n",
    "    sales = int(line[1][1:].replace(',', ''))\n",
    "    x.append(sales)\n",
    "\n",
    "x = np.array(x)\n",
    "x = x.reshape(-1, 1)\n",
    "y"
   ]
  },
  {
   "cell_type": "code",
   "execution_count": 17,
   "id": "f71573f2",
   "metadata": {},
   "outputs": [
    {
     "data": {
      "text/html": [
       "<style>#sk-container-id-2 {color: black;background-color: white;}#sk-container-id-2 pre{padding: 0;}#sk-container-id-2 div.sk-toggleable {background-color: white;}#sk-container-id-2 label.sk-toggleable__label {cursor: pointer;display: block;width: 100%;margin-bottom: 0;padding: 0.3em;box-sizing: border-box;text-align: center;}#sk-container-id-2 label.sk-toggleable__label-arrow:before {content: \"▸\";float: left;margin-right: 0.25em;color: #696969;}#sk-container-id-2 label.sk-toggleable__label-arrow:hover:before {color: black;}#sk-container-id-2 div.sk-estimator:hover label.sk-toggleable__label-arrow:before {color: black;}#sk-container-id-2 div.sk-toggleable__content {max-height: 0;max-width: 0;overflow: hidden;text-align: left;background-color: #f0f8ff;}#sk-container-id-2 div.sk-toggleable__content pre {margin: 0.2em;color: black;border-radius: 0.25em;background-color: #f0f8ff;}#sk-container-id-2 input.sk-toggleable__control:checked~div.sk-toggleable__content {max-height: 200px;max-width: 100%;overflow: auto;}#sk-container-id-2 input.sk-toggleable__control:checked~label.sk-toggleable__label-arrow:before {content: \"▾\";}#sk-container-id-2 div.sk-estimator input.sk-toggleable__control:checked~label.sk-toggleable__label {background-color: #d4ebff;}#sk-container-id-2 div.sk-label input.sk-toggleable__control:checked~label.sk-toggleable__label {background-color: #d4ebff;}#sk-container-id-2 input.sk-hidden--visually {border: 0;clip: rect(1px 1px 1px 1px);clip: rect(1px, 1px, 1px, 1px);height: 1px;margin: -1px;overflow: hidden;padding: 0;position: absolute;width: 1px;}#sk-container-id-2 div.sk-estimator {font-family: monospace;background-color: #f0f8ff;border: 1px dotted black;border-radius: 0.25em;box-sizing: border-box;margin-bottom: 0.5em;}#sk-container-id-2 div.sk-estimator:hover {background-color: #d4ebff;}#sk-container-id-2 div.sk-parallel-item::after {content: \"\";width: 100%;border-bottom: 1px solid gray;flex-grow: 1;}#sk-container-id-2 div.sk-label:hover label.sk-toggleable__label {background-color: #d4ebff;}#sk-container-id-2 div.sk-serial::before {content: \"\";position: absolute;border-left: 1px solid gray;box-sizing: border-box;top: 0;bottom: 0;left: 50%;z-index: 0;}#sk-container-id-2 div.sk-serial {display: flex;flex-direction: column;align-items: center;background-color: white;padding-right: 0.2em;padding-left: 0.2em;position: relative;}#sk-container-id-2 div.sk-item {position: relative;z-index: 1;}#sk-container-id-2 div.sk-parallel {display: flex;align-items: stretch;justify-content: center;background-color: white;position: relative;}#sk-container-id-2 div.sk-item::before, #sk-container-id-2 div.sk-parallel-item::before {content: \"\";position: absolute;border-left: 1px solid gray;box-sizing: border-box;top: 0;bottom: 0;left: 50%;z-index: -1;}#sk-container-id-2 div.sk-parallel-item {display: flex;flex-direction: column;z-index: 1;position: relative;background-color: white;}#sk-container-id-2 div.sk-parallel-item:first-child::after {align-self: flex-end;width: 50%;}#sk-container-id-2 div.sk-parallel-item:last-child::after {align-self: flex-start;width: 50%;}#sk-container-id-2 div.sk-parallel-item:only-child::after {width: 0;}#sk-container-id-2 div.sk-dashed-wrapped {border: 1px dashed gray;margin: 0 0.4em 0.5em 0.4em;box-sizing: border-box;padding-bottom: 0.4em;background-color: white;}#sk-container-id-2 div.sk-label label {font-family: monospace;font-weight: bold;display: inline-block;line-height: 1.2em;}#sk-container-id-2 div.sk-label-container {text-align: center;}#sk-container-id-2 div.sk-container {/* jupyter's `normalize.less` sets `[hidden] { display: none; }` but bootstrap.min.css set `[hidden] { display: none !important; }` so we also need the `!important` here to be able to override the default hidden behavior on the sphinx rendered scikit-learn.org. See: https://github.com/scikit-learn/scikit-learn/issues/21755 */display: inline-block !important;position: relative;}#sk-container-id-2 div.sk-text-repr-fallback {display: none;}</style><div id=\"sk-container-id-2\" class=\"sk-top-container\"><div class=\"sk-text-repr-fallback\"><pre>LinearRegression()</pre><b>In a Jupyter environment, please rerun this cell to show the HTML representation or trust the notebook. <br />On GitHub, the HTML representation is unable to render, please try loading this page with nbviewer.org.</b></div><div class=\"sk-container\" hidden><div class=\"sk-item\"><div class=\"sk-estimator sk-toggleable\"><input class=\"sk-toggleable__control sk-hidden--visually\" id=\"sk-estimator-id-2\" type=\"checkbox\" checked><label for=\"sk-estimator-id-2\" class=\"sk-toggleable__label sk-toggleable__label-arrow\">LinearRegression</label><div class=\"sk-toggleable__content\"><pre>LinearRegression()</pre></div></div></div></div></div>"
      ],
      "text/plain": [
       "LinearRegression()"
      ]
     },
     "execution_count": 17,
     "metadata": {},
     "output_type": "execute_result"
    }
   ],
   "source": [
    "model = LinearRegression()\n",
    "\n",
    "model.fit(x, y)"
   ]
  },
  {
   "cell_type": "code",
   "execution_count": 18,
   "id": "4b96ea9c",
   "metadata": {},
   "outputs": [
    {
     "name": "stdout",
     "output_type": "stream",
     "text": [
      "Slope: -8.02200800823836e-08\n",
      "Intercept: 135.2609007385076\n"
     ]
    }
   ],
   "source": [
    "# Print the coefficients (slope and intercept)\n",
    "print('Slope:', model.coef_[0])\n",
    "print('Intercept:', model.intercept_)"
   ]
  },
  {
   "cell_type": "code",
   "execution_count": 23,
   "id": "e8f8738f",
   "metadata": {},
   "outputs": [
    {
     "data": {
      "text/plain": [
       "array([-192.8570375 ,  -60.45636189,  -56.34219285,   -4.70891422,\n",
       "         30.11366953,   50.68763469,   52.40159984,   70.93159594,\n",
       "         76.24679795,   87.50818016,   92.73133869,   93.14754213,\n",
       "         99.96380984,  105.45648618,  105.65876473,  107.15944505,\n",
       "        112.76872666,  115.30522446,  115.52513169,  115.99949653,\n",
       "        117.05747344,  117.14201987,  117.15160697,  118.89652591,\n",
       "        119.17583691,  119.50270646,  119.85168362,  120.09546154,\n",
       "        120.31583725,  121.1678864 ,  121.9625324 ,  122.3830232 ,\n",
       "        122.40987494,  122.98514365,  123.68085133,  124.00525475,\n",
       "        124.31911285,  124.46590982,  124.56560348,  124.7248312 ,\n",
       "        125.161128  ,  125.20118341,  125.34184587,  125.49592482,\n",
       "        125.68464536,  125.68871581,  126.04258985,  126.67763631,\n",
       "        126.68108954,  126.74703149,  126.74988668,  126.91306564,\n",
       "        126.94048205,  127.09920382,  127.27601345,  127.34246046,\n",
       "        127.37135341,  127.38097509,  127.45727842,  127.59604552,\n",
       "        127.6343961 ,  127.72540201,  127.94838455,  128.05008612,\n",
       "        128.09656893,  128.17828214,  128.27702584,  128.69257741,\n",
       "        128.7484981 ,  128.7846788 ,  128.86993494,  128.87060903,\n",
       "        129.05910448,  129.09124096,  129.26704503,  129.27797935,\n",
       "        129.32978941,  129.39245878,  129.57494005,  129.62194653,\n",
       "        129.67653854,  129.80301584,  129.83727359,  129.8913643 ,\n",
       "        129.90650681,  129.90820418,  129.91751092,  129.94279797,\n",
       "        130.00819611,  130.06684236,  130.228973  ,  130.24266135,\n",
       "        130.295388  ,  130.30278373,  130.38941837,  130.39179257,\n",
       "        130.4210826 ,  130.4868252 ,  130.49298274,  130.68719723,\n",
       "        130.74579993,  130.79857191,  130.82257857,  130.834431  ,\n",
       "        130.83537672,  130.84795122,  130.99527627,  130.99704128,\n",
       "        131.04037865,  131.05657059,  131.09858875,  131.11663578,\n",
       "        131.13218452,  131.14673628,  131.15131917,  131.26923804,\n",
       "        131.28618469,  131.29070549,  131.29511158,  131.34151681,\n",
       "        131.35442141,  131.36726409,  131.37015995,  131.38142863,\n",
       "        131.40079624,  131.40484318,  131.43743371,  131.47791445,\n",
       "        131.48872884,  131.53511089,  131.55480339,  131.56462409,\n",
       "        131.69520193,  131.74832399,  131.75782926,  131.81287652,\n",
       "        131.82017422,  131.82524269,  131.85696035,  131.86350213,\n",
       "        131.90409823,  131.90621563,  131.94049857,  131.97498935,\n",
       "        131.99121394,  132.00757363,  132.02861696,  132.03921042,\n",
       "        132.05645758,  132.08550936,  132.12109916,  132.162041  ,\n",
       "        132.18269655,  132.22481762,  132.22919074,  132.22953088,\n",
       "        132.23951226,  132.27416332,  132.30969705,  132.31347261,\n",
       "        132.3381386 ,  132.34002096,  132.37818326,  132.38594327,\n",
       "        132.40189294,  132.41896073,  132.48553617,  132.49628823,\n",
       "        132.50673   ,  132.51500927,  132.54603832,  132.62917673,\n",
       "        132.64118503,  132.64540092,  132.65355104,  132.68923269,\n",
       "        132.72952627,  132.74992888,  132.75272864,  132.79311328,\n",
       "        132.79380526,  132.80418245,  132.82469616,  132.8399805 ,\n",
       "        132.84795894,  132.85009472,  132.85482907,  132.85901022,\n",
       "        132.86707643,  132.87982268,  132.88469942,  132.89996153,\n",
       "        132.91012846,  132.91552142,  132.91908383,  132.98030651,\n",
       "        133.00086395,  133.05071086,  133.05263133,  133.09142665,\n",
       "        133.11003345,  133.11519866,  133.12206775,  133.17681049,\n",
       "        133.20934936,  133.22668131,  133.23073636,  133.27503565,\n",
       "        133.28361575,  133.28821597,  133.29042748,  133.29678211,\n",
       "        133.29809074,  133.30706183,  133.31100345,  133.32004802,\n",
       "        133.33575511,  133.34506144,  133.34624365,  133.37927322,\n",
       "        133.38360254,  133.38615498,  133.39756452,  133.40709475,\n",
       "        133.4080115 ,  133.40819104,  133.40908324,  133.40933217,\n",
       "        133.41199274,  133.41338841,  133.42433605,  133.44713387,\n",
       "        133.44962743,  133.45269778,  133.45586045,  133.46043837,\n",
       "        133.46277117,  133.49217857,  133.49663768,  133.49899158,\n",
       "        133.50719938,  133.50727262,  133.50835182,  133.51658088,\n",
       "        133.53875652,  133.55582173,  133.57199322,  133.58309768,\n",
       "        133.58340428,  133.58415097])"
      ]
     },
     "execution_count": 23,
     "metadata": {},
     "output_type": "execute_result"
    }
   ],
   "source": [
    "y_pred = model.predict(x)\n",
    "y_pred"
   ]
  },
  {
   "cell_type": "code",
   "execution_count": 28,
   "id": "9772dd93",
   "metadata": {},
   "outputs": [
    {
     "data": {
      "image/png": "[encoded data removed]",
      "text/plain": [
       "<Figure size 640x480 with 1 Axes>"
      ]
     },
     "metadata": {},
     "output_type": "display_data"
    }
   ],
   "source": [
    "plt.scatter(x, y)\n",
    "plt.plot(x, y_pred, color='red')\n",
    "plt.xlabel('Sales')\n",
    "plt.ylabel('Collection')\n",
    "plt.title('Linear Regression')\n",
    "plt.show()"
   ]
  },
  {
   "cell_type": "code",
   "execution_count": 29,
   "id": "3f2410e9",
   "metadata": {},
   "outputs": [
    {
     "data": {
      "text/plain": [
       "0.17322858540861452"
      ]
     },
     "execution_count": 29,
     "metadata": {},
     "output_type": "execute_result"
    }
   ],
   "source": [
    "# Calculate R-squared score (accuracy)\n",
    "r2 = r2_score(y, y_pred)\n",
    "r2"
   ]
  }
 ],
 "metadata": {
  "kernelspec": {
   "display_name": "Python 3 (ipykernel)",
   "language": "python",
   "name": "python3"
  },
  "language_info": {
   "codemirror_mode": {
    "name": "ipython",
    "version": 3
   },
   "file_extension": ".py",
   "mimetype": "text/x-python",
   "name": "python",
   "nbconvert_exporter": "python",
   "pygments_lexer": "ipython3",
   "version": "3.9.13"
  }
 },
 "nbformat": 4,
 "nbformat_minor": 5
}
