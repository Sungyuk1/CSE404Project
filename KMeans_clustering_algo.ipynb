{
 "cells": [
  {
   "cell_type": "code",
   "execution_count": 1,
   "metadata": {},
   "outputs": [],
   "source": [
    "import pandas as pd\n",
    "import numpy as np\n",
    "import matplotlib.pyplot as plt\n",
    "from sklearn.model_selection import train_test_split\n",
    "from sklearn import preprocessing\n",
    "from sklearn.preprocessing import LabelEncoder\n",
    "from sklearn.preprocessing import MinMaxScaler"
   ]
  },
  {
   "cell_type": "markdown",
   "metadata": {},
   "source": [
    "Source = https://www.kaggle.com/code/prashant111/k-means-clustering-with-python"
   ]
  },
  {
   "cell_type": "code",
   "execution_count": 2,
   "metadata": {},
   "outputs": [],
   "source": [
    "df = pd.read_csv('nft_sales.csv', error_bad_lines=False)"
   ]
  },
  {
   "cell_type": "code",
   "execution_count": 3,
   "metadata": {},
   "outputs": [
    {
     "data": {
      "text/html": [
       "<div>\n",
       "<style scoped>\n",
       "    .dataframe tbody tr th:only-of-type {\n",
       "        vertical-align: middle;\n",
       "    }\n",
       "\n",
       "    .dataframe tbody tr th {\n",
       "        vertical-align: top;\n",
       "    }\n",
       "\n",
       "    .dataframe thead th {\n",
       "        text-align: right;\n",
       "    }\n",
       "</style>\n",
       "<table border=\"1\" class=\"dataframe\">\n",
       "  <thead>\n",
       "    <tr style=\"text-align: right;\">\n",
       "      <th></th>\n",
       "      <th>Collections</th>\n",
       "      <th>Sales</th>\n",
       "      <th>Buyers</th>\n",
       "      <th>Txns</th>\n",
       "      <th>Owners</th>\n",
       "    </tr>\n",
       "  </thead>\n",
       "  <tbody>\n",
       "    <tr>\n",
       "      <th>0</th>\n",
       "      <td>Axie Infinity</td>\n",
       "      <td>$4,090,222,023</td>\n",
       "      <td>1,790,587</td>\n",
       "      <td>17,670,824</td>\n",
       "      <td>2,130,467</td>\n",
       "    </tr>\n",
       "    <tr>\n",
       "      <th>1</th>\n",
       "      <td>Bored Ape Yacht Club</td>\n",
       "      <td>$2,439,754,017</td>\n",
       "      <td>12,052</td>\n",
       "      <td>32,670</td>\n",
       "      <td>6,586</td>\n",
       "    </tr>\n",
       "    <tr>\n",
       "      <th>2</th>\n",
       "      <td>CryptoPunks</td>\n",
       "      <td>$2,388,467,992</td>\n",
       "      <td>6,076</td>\n",
       "      <td>22,269</td>\n",
       "      <td>3,804</td>\n",
       "    </tr>\n",
       "    <tr>\n",
       "      <th>3</th>\n",
       "      <td>Mutant Ape Yacht Club</td>\n",
       "      <td>$1,744,822,678</td>\n",
       "      <td>23,768</td>\n",
       "      <td>51,775</td>\n",
       "      <td>13,121</td>\n",
       "    </tr>\n",
       "    <tr>\n",
       "      <th>4</th>\n",
       "      <td>Art Blocks</td>\n",
       "      <td>$1,310,734,558</td>\n",
       "      <td>33,549</td>\n",
       "      <td>184,470</td>\n",
       "      <td>36,091</td>\n",
       "    </tr>\n",
       "  </tbody>\n",
       "</table>\n",
       "</div>"
      ],
      "text/plain": [
       "             Collections           Sales     Buyers        Txns     Owners\n",
       "0          Axie Infinity  $4,090,222,023  1,790,587  17,670,824  2,130,467\n",
       "1   Bored Ape Yacht Club  $2,439,754,017     12,052      32,670      6,586\n",
       "2            CryptoPunks  $2,388,467,992      6,076      22,269      3,804\n",
       "3  Mutant Ape Yacht Club  $1,744,822,678     23,768      51,775     13,121\n",
       "4             Art Blocks  $1,310,734,558     33,549     184,470     36,091"
      ]
     },
     "execution_count": 3,
     "metadata": {},
     "output_type": "execute_result"
    }
   ],
   "source": [
    "df.head()"
   ]
  },
  {
   "cell_type": "code",
   "execution_count": 4,
   "metadata": {},
   "outputs": [],
   "source": [
    "df = df.replace(',','', regex=True) #Removing commas\n",
    "df['Sales'] = df['Sales'].str.replace('$', '') #Removing dollar signs"
   ]
  },
  {
   "cell_type": "code",
   "execution_count": 5,
   "metadata": {},
   "outputs": [
    {
     "data": {
      "text/html": [
       "<div>\n",
       "<style scoped>\n",
       "    .dataframe tbody tr th:only-of-type {\n",
       "        vertical-align: middle;\n",
       "    }\n",
       "\n",
       "    .dataframe tbody tr th {\n",
       "        vertical-align: top;\n",
       "    }\n",
       "\n",
       "    .dataframe thead th {\n",
       "        text-align: right;\n",
       "    }\n",
       "</style>\n",
       "<table border=\"1\" class=\"dataframe\">\n",
       "  <thead>\n",
       "    <tr style=\"text-align: right;\">\n",
       "      <th></th>\n",
       "      <th>Collections</th>\n",
       "      <th>Sales</th>\n",
       "      <th>Buyers</th>\n",
       "      <th>Txns</th>\n",
       "      <th>Owners</th>\n",
       "    </tr>\n",
       "  </thead>\n",
       "  <tbody>\n",
       "    <tr>\n",
       "      <th>0</th>\n",
       "      <td>Axie Infinity</td>\n",
       "      <td>4090222023</td>\n",
       "      <td>1790587</td>\n",
       "      <td>17670824</td>\n",
       "      <td>2130467</td>\n",
       "    </tr>\n",
       "    <tr>\n",
       "      <th>1</th>\n",
       "      <td>Bored Ape Yacht Club</td>\n",
       "      <td>2439754017</td>\n",
       "      <td>12052</td>\n",
       "      <td>32670</td>\n",
       "      <td>6586</td>\n",
       "    </tr>\n",
       "    <tr>\n",
       "      <th>2</th>\n",
       "      <td>CryptoPunks</td>\n",
       "      <td>2388467992</td>\n",
       "      <td>6076</td>\n",
       "      <td>22269</td>\n",
       "      <td>3804</td>\n",
       "    </tr>\n",
       "    <tr>\n",
       "      <th>3</th>\n",
       "      <td>Mutant Ape Yacht Club</td>\n",
       "      <td>1744822678</td>\n",
       "      <td>23768</td>\n",
       "      <td>51775</td>\n",
       "      <td>13121</td>\n",
       "    </tr>\n",
       "    <tr>\n",
       "      <th>4</th>\n",
       "      <td>Art Blocks</td>\n",
       "      <td>1310734558</td>\n",
       "      <td>33549</td>\n",
       "      <td>184470</td>\n",
       "      <td>36091</td>\n",
       "    </tr>\n",
       "  </tbody>\n",
       "</table>\n",
       "</div>"
      ],
      "text/plain": [
       "             Collections       Sales   Buyers      Txns   Owners\n",
       "0          Axie Infinity  4090222023  1790587  17670824  2130467\n",
       "1   Bored Ape Yacht Club  2439754017    12052     32670     6586\n",
       "2            CryptoPunks  2388467992     6076     22269     3804\n",
       "3  Mutant Ape Yacht Club  1744822678    23768     51775    13121\n",
       "4             Art Blocks  1310734558    33549    184470    36091"
      ]
     },
     "execution_count": 5,
     "metadata": {},
     "output_type": "execute_result"
    }
   ],
   "source": [
    "df.head()"
   ]
  },
  {
   "cell_type": "code",
   "execution_count": 6,
   "metadata": {},
   "outputs": [],
   "source": [
    "df= df.dropna() "
   ]
  },
  {
   "cell_type": "code",
   "execution_count": 7,
   "metadata": {},
   "outputs": [],
   "source": [
    "df['Collections'] = df['Collections'].fillna('None')"
   ]
  },
  {
   "cell_type": "code",
   "execution_count": 8,
   "metadata": {},
   "outputs": [
    {
     "data": {
      "text/html": [
       "<div>\n",
       "<style scoped>\n",
       "    .dataframe tbody tr th:only-of-type {\n",
       "        vertical-align: middle;\n",
       "    }\n",
       "\n",
       "    .dataframe tbody tr th {\n",
       "        vertical-align: top;\n",
       "    }\n",
       "\n",
       "    .dataframe thead th {\n",
       "        text-align: right;\n",
       "    }\n",
       "</style>\n",
       "<table border=\"1\" class=\"dataframe\">\n",
       "  <thead>\n",
       "    <tr style=\"text-align: right;\">\n",
       "      <th></th>\n",
       "      <th>Collections</th>\n",
       "      <th>Sales</th>\n",
       "      <th>Buyers</th>\n",
       "      <th>Txns</th>\n",
       "      <th>Owners</th>\n",
       "    </tr>\n",
       "  </thead>\n",
       "  <tbody>\n",
       "    <tr>\n",
       "      <th>0</th>\n",
       "      <td>Axie Infinity</td>\n",
       "      <td>4090222023</td>\n",
       "      <td>1790587</td>\n",
       "      <td>17670824</td>\n",
       "      <td>2130467</td>\n",
       "    </tr>\n",
       "    <tr>\n",
       "      <th>1</th>\n",
       "      <td>Bored Ape Yacht Club</td>\n",
       "      <td>2439754017</td>\n",
       "      <td>12052</td>\n",
       "      <td>32670</td>\n",
       "      <td>6586</td>\n",
       "    </tr>\n",
       "    <tr>\n",
       "      <th>2</th>\n",
       "      <td>CryptoPunks</td>\n",
       "      <td>2388467992</td>\n",
       "      <td>6076</td>\n",
       "      <td>22269</td>\n",
       "      <td>3804</td>\n",
       "    </tr>\n",
       "    <tr>\n",
       "      <th>3</th>\n",
       "      <td>Mutant Ape Yacht Club</td>\n",
       "      <td>1744822678</td>\n",
       "      <td>23768</td>\n",
       "      <td>51775</td>\n",
       "      <td>13121</td>\n",
       "    </tr>\n",
       "    <tr>\n",
       "      <th>4</th>\n",
       "      <td>Art Blocks</td>\n",
       "      <td>1310734558</td>\n",
       "      <td>33549</td>\n",
       "      <td>184470</td>\n",
       "      <td>36091</td>\n",
       "    </tr>\n",
       "  </tbody>\n",
       "</table>\n",
       "</div>"
      ],
      "text/plain": [
       "             Collections       Sales   Buyers      Txns   Owners\n",
       "0          Axie Infinity  4090222023  1790587  17670824  2130467\n",
       "1   Bored Ape Yacht Club  2439754017    12052     32670     6586\n",
       "2            CryptoPunks  2388467992     6076     22269     3804\n",
       "3  Mutant Ape Yacht Club  1744822678    23768     51775    13121\n",
       "4             Art Blocks  1310734558    33549    184470    36091"
      ]
     },
     "execution_count": 8,
     "metadata": {},
     "output_type": "execute_result"
    }
   ],
   "source": [
    "df.head()"
   ]
  },
  {
   "cell_type": "code",
   "execution_count": 9,
   "metadata": {},
   "outputs": [
    {
     "name": "stdout",
     "output_type": "stream",
     "text": [
      "<class 'pandas.core.frame.DataFrame'>\n",
      "Int64Index: 231 entries, 0 to 249\n",
      "Data columns (total 5 columns):\n",
      "Collections    231 non-null object\n",
      "Sales          231 non-null object\n",
      "Buyers         231 non-null object\n",
      "Txns           231 non-null object\n",
      "Owners         231 non-null object\n",
      "dtypes: object(5)\n",
      "memory usage: 10.8+ KB\n"
     ]
    }
   ],
   "source": [
    "df.info()"
   ]
  },
  {
   "cell_type": "code",
   "execution_count": 10,
   "metadata": {},
   "outputs": [],
   "source": [
    "#Converting object to float for the numerical values\n",
    "df[\"Sales\"] = df[\"Sales\"].astype(np.int64)\n",
    "df[\"Buyers\"] = df[\"Buyers\"].astype(np.int64)\n",
    "df[\"Txns\"] = df[\"Txns\"].astype(np.int64)\n",
    "df[\"Owners\"] = df[\"Owners\"].astype(np.int64)"
   ]
  },
  {
   "cell_type": "code",
   "execution_count": 11,
   "metadata": {},
   "outputs": [
    {
     "name": "stdout",
     "output_type": "stream",
     "text": [
      "<class 'pandas.core.frame.DataFrame'>\n",
      "Int64Index: 231 entries, 0 to 249\n",
      "Data columns (total 5 columns):\n",
      "Collections    231 non-null object\n",
      "Sales          231 non-null int64\n",
      "Buyers         231 non-null int64\n",
      "Txns           231 non-null int64\n",
      "Owners         231 non-null int64\n",
      "dtypes: int64(4), object(1)\n",
      "memory usage: 10.8+ KB\n"
     ]
    }
   ],
   "source": [
    "df.info()"
   ]
  },
  {
   "cell_type": "code",
   "execution_count": 12,
   "metadata": {},
   "outputs": [
    {
     "data": {
      "text/html": [
       "<div>\n",
       "<style scoped>\n",
       "    .dataframe tbody tr th:only-of-type {\n",
       "        vertical-align: middle;\n",
       "    }\n",
       "\n",
       "    .dataframe tbody tr th {\n",
       "        vertical-align: top;\n",
       "    }\n",
       "\n",
       "    .dataframe thead th {\n",
       "        text-align: right;\n",
       "    }\n",
       "</style>\n",
       "<table border=\"1\" class=\"dataframe\">\n",
       "  <thead>\n",
       "    <tr style=\"text-align: right;\">\n",
       "      <th></th>\n",
       "      <th>Sales</th>\n",
       "      <th>Buyers</th>\n",
       "      <th>Txns</th>\n",
       "      <th>Owners</th>\n",
       "    </tr>\n",
       "  </thead>\n",
       "  <tbody>\n",
       "    <tr>\n",
       "      <th>count</th>\n",
       "      <td>2.310000e+02</td>\n",
       "      <td>2.310000e+02</td>\n",
       "      <td>2.310000e+02</td>\n",
       "      <td>2.310000e+02</td>\n",
       "    </tr>\n",
       "    <tr>\n",
       "      <th>mean</th>\n",
       "      <td>1.377520e+08</td>\n",
       "      <td>2.196901e+04</td>\n",
       "      <td>3.154530e+05</td>\n",
       "      <td>3.911334e+04</td>\n",
       "    </tr>\n",
       "    <tr>\n",
       "      <th>std</th>\n",
       "      <td>3.897715e+08</td>\n",
       "      <td>1.249546e+05</td>\n",
       "      <td>2.008909e+06</td>\n",
       "      <td>2.936604e+05</td>\n",
       "    </tr>\n",
       "    <tr>\n",
       "      <th>min</th>\n",
       "      <td>2.090187e+07</td>\n",
       "      <td>8.100000e+01</td>\n",
       "      <td>1.120000e+02</td>\n",
       "      <td>1.140000e+02</td>\n",
       "    </tr>\n",
       "    <tr>\n",
       "      <th>25%</th>\n",
       "      <td>2.976127e+07</td>\n",
       "      <td>5.324000e+03</td>\n",
       "      <td>1.311100e+04</td>\n",
       "      <td>3.253000e+03</td>\n",
       "    </tr>\n",
       "    <tr>\n",
       "      <th>50%</th>\n",
       "      <td>4.644460e+07</td>\n",
       "      <td>8.239000e+03</td>\n",
       "      <td>1.843700e+04</td>\n",
       "      <td>4.411000e+03</td>\n",
       "    </tr>\n",
       "    <tr>\n",
       "      <th>75%</th>\n",
       "      <td>8.767439e+07</td>\n",
       "      <td>1.120450e+04</td>\n",
       "      <td>2.460650e+04</td>\n",
       "      <td>5.719500e+03</td>\n",
       "    </tr>\n",
       "    <tr>\n",
       "      <th>max</th>\n",
       "      <td>4.090222e+09</td>\n",
       "      <td>1.790587e+06</td>\n",
       "      <td>2.181756e+07</td>\n",
       "      <td>3.843236e+06</td>\n",
       "    </tr>\n",
       "  </tbody>\n",
       "</table>\n",
       "</div>"
      ],
      "text/plain": [
       "              Sales        Buyers          Txns        Owners\n",
       "count  2.310000e+02  2.310000e+02  2.310000e+02  2.310000e+02\n",
       "mean   1.377520e+08  2.196901e+04  3.154530e+05  3.911334e+04\n",
       "std    3.897715e+08  1.249546e+05  2.008909e+06  2.936604e+05\n",
       "min    2.090187e+07  8.100000e+01  1.120000e+02  1.140000e+02\n",
       "25%    2.976127e+07  5.324000e+03  1.311100e+04  3.253000e+03\n",
       "50%    4.644460e+07  8.239000e+03  1.843700e+04  4.411000e+03\n",
       "75%    8.767439e+07  1.120450e+04  2.460650e+04  5.719500e+03\n",
       "max    4.090222e+09  1.790587e+06  2.181756e+07  3.843236e+06"
      ]
     },
     "execution_count": 12,
     "metadata": {},
     "output_type": "execute_result"
    }
   ],
   "source": [
    "df.describe()"
   ]
  },
  {
   "cell_type": "code",
   "execution_count": 13,
   "metadata": {},
   "outputs": [],
   "source": [
    "X = df\n",
    "y = df[\"Collections\"]"
   ]
  },
  {
   "cell_type": "code",
   "execution_count": 14,
   "metadata": {},
   "outputs": [],
   "source": [
    "encoder = LabelEncoder()  #Encoding Categorical Value, which in this case is Collections\n",
    "X['Collections'] = encoder.fit_transform(X['Collections'])\n",
    "y = encoder.transform(y)"
   ]
  },
  {
   "cell_type": "code",
   "execution_count": 15,
   "metadata": {},
   "outputs": [
    {
     "name": "stdout",
     "output_type": "stream",
     "text": [
      "<class 'pandas.core.frame.DataFrame'>\n",
      "Int64Index: 231 entries, 0 to 249\n",
      "Data columns (total 5 columns):\n",
      "Collections    231 non-null int32\n",
      "Sales          231 non-null int64\n",
      "Buyers         231 non-null int64\n",
      "Txns           231 non-null int64\n",
      "Owners         231 non-null int64\n",
      "dtypes: int32(1), int64(4)\n",
      "memory usage: 9.9 KB\n"
     ]
    }
   ],
   "source": [
    "X.info()"
   ]
  },
  {
   "cell_type": "code",
   "execution_count": 16,
   "metadata": {},
   "outputs": [
    {
     "data": {
      "text/html": [
       "<div>\n",
       "<style scoped>\n",
       "    .dataframe tbody tr th:only-of-type {\n",
       "        vertical-align: middle;\n",
       "    }\n",
       "\n",
       "    .dataframe tbody tr th {\n",
       "        vertical-align: top;\n",
       "    }\n",
       "\n",
       "    .dataframe thead th {\n",
       "        text-align: right;\n",
       "    }\n",
       "</style>\n",
       "<table border=\"1\" class=\"dataframe\">\n",
       "  <thead>\n",
       "    <tr style=\"text-align: right;\">\n",
       "      <th></th>\n",
       "      <th>Collections</th>\n",
       "      <th>Sales</th>\n",
       "      <th>Buyers</th>\n",
       "      <th>Txns</th>\n",
       "      <th>Owners</th>\n",
       "    </tr>\n",
       "  </thead>\n",
       "  <tbody>\n",
       "    <tr>\n",
       "      <th>0</th>\n",
       "      <td>19</td>\n",
       "      <td>4090222023</td>\n",
       "      <td>1790587</td>\n",
       "      <td>17670824</td>\n",
       "      <td>2130467</td>\n",
       "    </tr>\n",
       "    <tr>\n",
       "      <th>1</th>\n",
       "      <td>28</td>\n",
       "      <td>2439754017</td>\n",
       "      <td>12052</td>\n",
       "      <td>32670</td>\n",
       "      <td>6586</td>\n",
       "    </tr>\n",
       "    <tr>\n",
       "      <th>2</th>\n",
       "      <td>53</td>\n",
       "      <td>2388467992</td>\n",
       "      <td>6076</td>\n",
       "      <td>22269</td>\n",
       "      <td>3804</td>\n",
       "    </tr>\n",
       "    <tr>\n",
       "      <th>3</th>\n",
       "      <td>138</td>\n",
       "      <td>1744822678</td>\n",
       "      <td>23768</td>\n",
       "      <td>51775</td>\n",
       "      <td>13121</td>\n",
       "    </tr>\n",
       "    <tr>\n",
       "      <th>4</th>\n",
       "      <td>16</td>\n",
       "      <td>1310734558</td>\n",
       "      <td>33549</td>\n",
       "      <td>184470</td>\n",
       "      <td>36091</td>\n",
       "    </tr>\n",
       "  </tbody>\n",
       "</table>\n",
       "</div>"
      ],
      "text/plain": [
       "   Collections       Sales   Buyers      Txns   Owners\n",
       "0           19  4090222023  1790587  17670824  2130467\n",
       "1           28  2439754017    12052     32670     6586\n",
       "2           53  2388467992     6076     22269     3804\n",
       "3          138  1744822678    23768     51775    13121\n",
       "4           16  1310734558    33549    184470    36091"
      ]
     },
     "execution_count": 16,
     "metadata": {},
     "output_type": "execute_result"
    }
   ],
   "source": [
    "X.head()"
   ]
  },
  {
   "cell_type": "code",
   "execution_count": 17,
   "metadata": {},
   "outputs": [
    {
     "data": {
      "text/html": [
       "<div>\n",
       "<style scoped>\n",
       "    .dataframe tbody tr th:only-of-type {\n",
       "        vertical-align: middle;\n",
       "    }\n",
       "\n",
       "    .dataframe tbody tr th {\n",
       "        vertical-align: top;\n",
       "    }\n",
       "\n",
       "    .dataframe thead tr th {\n",
       "        text-align: left;\n",
       "    }\n",
       "</style>\n",
       "<table border=\"1\" class=\"dataframe\">\n",
       "  <thead>\n",
       "    <tr>\n",
       "      <th></th>\n",
       "      <th>Collections</th>\n",
       "      <th>Sales</th>\n",
       "      <th>Buyers</th>\n",
       "      <th>Txns</th>\n",
       "      <th>Owners</th>\n",
       "    </tr>\n",
       "  </thead>\n",
       "  <tbody>\n",
       "    <tr>\n",
       "      <th>0</th>\n",
       "      <td>0.082609</td>\n",
       "      <td>1.000000</td>\n",
       "      <td>1.000000</td>\n",
       "      <td>0.809935</td>\n",
       "      <td>0.554329</td>\n",
       "    </tr>\n",
       "    <tr>\n",
       "      <th>1</th>\n",
       "      <td>0.121739</td>\n",
       "      <td>0.594412</td>\n",
       "      <td>0.006686</td>\n",
       "      <td>0.001492</td>\n",
       "      <td>0.001684</td>\n",
       "    </tr>\n",
       "    <tr>\n",
       "      <th>2</th>\n",
       "      <td>0.230435</td>\n",
       "      <td>0.581809</td>\n",
       "      <td>0.003348</td>\n",
       "      <td>0.001016</td>\n",
       "      <td>0.000960</td>\n",
       "    </tr>\n",
       "    <tr>\n",
       "      <th>3</th>\n",
       "      <td>0.600000</td>\n",
       "      <td>0.423639</td>\n",
       "      <td>0.013229</td>\n",
       "      <td>0.002368</td>\n",
       "      <td>0.003384</td>\n",
       "    </tr>\n",
       "    <tr>\n",
       "      <th>4</th>\n",
       "      <td>0.069565</td>\n",
       "      <td>0.316965</td>\n",
       "      <td>0.018692</td>\n",
       "      <td>0.008450</td>\n",
       "      <td>0.009361</td>\n",
       "    </tr>\n",
       "  </tbody>\n",
       "</table>\n",
       "</div>"
      ],
      "text/plain": [
       "  Collections     Sales    Buyers      Txns    Owners\n",
       "0    0.082609  1.000000  1.000000  0.809935  0.554329\n",
       "1    0.121739  0.594412  0.006686  0.001492  0.001684\n",
       "2    0.230435  0.581809  0.003348  0.001016  0.000960\n",
       "3    0.600000  0.423639  0.013229  0.002368  0.003384\n",
       "4    0.069565  0.316965  0.018692  0.008450  0.009361"
      ]
     },
     "execution_count": 17,
     "metadata": {},
     "output_type": "execute_result"
    }
   ],
   "source": [
    "# Feature Scaling\n",
    "col = X.columns\n",
    "min_max = MinMaxScaler()\n",
    "X = min_max.fit_transform(X)\n",
    "X = pd.DataFrame(X, columns=[col])\n",
    "X.head()"
   ]
  },
  {
   "cell_type": "code",
   "execution_count": 18,
   "metadata": {},
   "outputs": [
    {
     "data": {
      "text/plain": [
       "KMeans(algorithm='auto', copy_x=True, init='k-means++', max_iter=300,\n",
       "       n_clusters=4, n_init=10, n_jobs=None, precompute_distances='auto',\n",
       "       random_state=0, tol=0.0001, verbose=0)"
      ]
     },
     "execution_count": 18,
     "metadata": {},
     "output_type": "execute_result"
    }
   ],
   "source": [
    "# Clustering process with n_clusters = 4\n",
    "\n",
    "from sklearn.cluster import KMeans\n",
    "\n",
    "K_means = KMeans(n_clusters=4, random_state=0) \n",
    "\n",
    "K_means.fit(X)"
   ]
  },
  {
   "cell_type": "code",
   "execution_count": 19,
   "metadata": {},
   "outputs": [
    {
     "data": {
      "text/plain": [
       "array([[0.50950725, 0.02135922, 0.00559303, 0.00790384, 0.00217333],\n",
       "       [0.17286736, 0.03669339, 0.00882641, 0.0076129 , 0.01642281],\n",
       "       [0.34782609, 0.62434483, 0.62466671, 0.90496736, 0.3674441 ],\n",
       "       [0.83913043, 0.01178308, 0.00610345, 0.00446189, 0.00198477]])"
      ]
     },
     "execution_count": 19,
     "metadata": {},
     "output_type": "execute_result"
    }
   ],
   "source": [
    "K_means.cluster_centers_"
   ]
  },
  {
   "cell_type": "code",
   "execution_count": 20,
   "metadata": {},
   "outputs": [
    {
     "data": {
      "text/plain": [
       "5.4415975010608495"
      ]
     },
     "execution_count": 20,
     "metadata": {},
     "output_type": "execute_result"
    }
   ],
   "source": [
    "K_means.inertia_"
   ]
  },
  {
   "cell_type": "code",
   "execution_count": 21,
   "metadata": {},
   "outputs": [
    {
     "name": "stdout",
     "output_type": "stream",
     "text": [
      "(1, 231)\n"
     ]
    }
   ],
   "source": [
    "label = K_means.labels_\n",
    "correct_labels = sum(y == label)\n",
    "print((correct_labels, y.size))"
   ]
  },
  {
   "cell_type": "markdown",
   "metadata": {},
   "source": [
    "Above Code says 1 out of 231 samples are categorized correctly, since each of the NFTs are different, so they each have a unique category, due to the exclusivity of NFTs"
   ]
  },
  {
   "cell_type": "code",
   "execution_count": 22,
   "metadata": {},
   "outputs": [
    {
     "name": "stdout",
     "output_type": "stream",
     "text": [
      "0.004329004329004329\n"
     ]
    }
   ],
   "source": [
    "print((correct_labels/float(y.size))) # Accuracy Score"
   ]
  },
  {
   "cell_type": "code",
   "execution_count": 23,
   "metadata": {},
   "outputs": [
    {
     "data": {
      "image/png": "[encoded data removed]",
      "text/plain": [
       "<Figure size 432x288 with 1 Axes>"
      ]
     },
     "metadata": {
      "needs_background": "light"
     },
     "output_type": "display_data"
    }
   ],
   "source": [
    "from sklearn.cluster import KMeans\n",
    "cs = []\n",
    "for i in range(1, 20):\n",
    "    K_means = KMeans(n_clusters = i, init = 'k-means++', max_iter = 200, n_init = 10, random_state = 0)\n",
    "    K_means.fit(X)\n",
    "    cs.append(K_means.inertia_)\n",
    "plt.plot(range(1, 20), cs)\n",
    "plt.title('Optimal Clusters')\n",
    "plt.xlabel('Number of clusters')\n",
    "plt.show()"
   ]
  }
 ],
 "metadata": {
  "kernelspec": {
   "display_name": "Python 3",
   "language": "python",
   "name": "python3"
  },
  "language_info": {
   "codemirror_mode": {
    "name": "ipython",
    "version": 3
   },
   "file_extension": ".py",
   "mimetype": "text/x-python",
   "name": "python",
   "nbconvert_exporter": "python",
   "pygments_lexer": "ipython3",
   "version": "3.7.3"
  }
 },
 "nbformat": 4,
 "nbformat_minor": 5
}
