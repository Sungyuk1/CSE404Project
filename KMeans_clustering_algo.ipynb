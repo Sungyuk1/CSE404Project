{
 "cells": [
  {
   "cell_type": "code",
   "execution_count": 23,
   "id": "73867c4d",
   "metadata": {},
   "outputs": [],
   "source": [
    "import pandas as pd\n",
    "import numpy as np\n",
    "import matplotlib.pyplot as plt\n",
    "from sklearn.model_selection import train_test_split\n",
    "from sklearn import preprocessing\n",
    "from sklearn.preprocessing import LabelEncoder\n",
    "from sklearn.preprocessing import MinMaxScaler"
   ]
  },
  {
   "cell_type": "markdown",
   "id": "e643a1eb",
   "metadata": {},
   "source": [
    "Source = https://www.kaggle.com/code/prashant111/k-means-clustering-with-python"
   ]
  },
  {
   "cell_type": "code",
   "execution_count": 24,
   "id": "eb642c08",
   "metadata": {},
   "outputs": [
    {
     "name": "stderr",
     "output_type": "stream",
     "text": [
      "/var/folders/t7/1w4tnc2s20ddbtpv_7k581q40000gn/T/ipykernel_85020/4032470793.py:1: FutureWarning: The error_bad_lines argument has been deprecated and will be removed in a future version. Use on_bad_lines in the future.\n",
      "\n",
      "\n",
      "  df = pd.read_csv('nft_sales.csv', error_bad_lines=False)\n"
     ]
    }
   ],
   "source": [
    "df = pd.read_csv('nft_sales.csv', error_bad_lines=False)"
   ]
  },
  {
   "cell_type": "code",
   "execution_count": 25,
   "id": "34e2471b",
   "metadata": {},
   "outputs": [
    {
     "data": {
      "text/html": [
       "<div>\n",
       "<style scoped>\n",
       "    .dataframe tbody tr th:only-of-type {\n",
       "        vertical-align: middle;\n",
       "    }\n",
       "\n",
       "    .dataframe tbody tr th {\n",
       "        vertical-align: top;\n",
       "    }\n",
       "\n",
       "    .dataframe thead th {\n",
       "        text-align: right;\n",
       "    }\n",
       "</style>\n",
       "<table border=\"1\" class=\"dataframe\">\n",
       "  <thead>\n",
       "    <tr style=\"text-align: right;\">\n",
       "      <th></th>\n",
       "      <th>Collections</th>\n",
       "      <th>Sales</th>\n",
       "      <th>Buyers</th>\n",
       "      <th>Txns</th>\n",
       "      <th>Owners</th>\n",
       "    </tr>\n",
       "  </thead>\n",
       "  <tbody>\n",
       "    <tr>\n",
       "      <th>0</th>\n",
       "      <td>Axie Infinity</td>\n",
       "      <td>$4,090,222,023</td>\n",
       "      <td>1,790,587</td>\n",
       "      <td>17,670,824</td>\n",
       "      <td>2,130,467</td>\n",
       "    </tr>\n",
       "    <tr>\n",
       "      <th>1</th>\n",
       "      <td>Bored Ape Yacht Club</td>\n",
       "      <td>$2,439,754,017</td>\n",
       "      <td>12,052</td>\n",
       "      <td>32,670</td>\n",
       "      <td>6,586</td>\n",
       "    </tr>\n",
       "    <tr>\n",
       "      <th>2</th>\n",
       "      <td>CryptoPunks</td>\n",
       "      <td>$2,388,467,992</td>\n",
       "      <td>6,076</td>\n",
       "      <td>22,269</td>\n",
       "      <td>3,804</td>\n",
       "    </tr>\n",
       "    <tr>\n",
       "      <th>3</th>\n",
       "      <td>Mutant Ape Yacht Club</td>\n",
       "      <td>$1,744,822,678</td>\n",
       "      <td>23,768</td>\n",
       "      <td>51,775</td>\n",
       "      <td>13,121</td>\n",
       "    </tr>\n",
       "    <tr>\n",
       "      <th>4</th>\n",
       "      <td>Art Blocks</td>\n",
       "      <td>$1,310,734,558</td>\n",
       "      <td>33,549</td>\n",
       "      <td>184,470</td>\n",
       "      <td>36,091</td>\n",
       "    </tr>\n",
       "  </tbody>\n",
       "</table>\n",
       "</div>"
      ],
      "text/plain": [
       "             Collections           Sales     Buyers        Txns     Owners\n",
       "0          Axie Infinity  $4,090,222,023  1,790,587  17,670,824  2,130,467\n",
       "1   Bored Ape Yacht Club  $2,439,754,017     12,052      32,670      6,586\n",
       "2            CryptoPunks  $2,388,467,992      6,076      22,269      3,804\n",
       "3  Mutant Ape Yacht Club  $1,744,822,678     23,768      51,775     13,121\n",
       "4             Art Blocks  $1,310,734,558     33,549     184,470     36,091"
      ]
     },
     "execution_count": 25,
     "metadata": {},
     "output_type": "execute_result"
    }
   ],
   "source": [
    "df.head()"
   ]
  },
  {
   "cell_type": "code",
   "execution_count": 26,
   "id": "6183b6c6",
   "metadata": {},
   "outputs": [
    {
     "name": "stderr",
     "output_type": "stream",
     "text": [
      "/var/folders/t7/1w4tnc2s20ddbtpv_7k581q40000gn/T/ipykernel_85020/3167903247.py:2: FutureWarning: The default value of regex will change from True to False in a future version. In addition, single character regular expressions will *not* be treated as literal strings when regex=True.\n",
      "  df['Sales'] = df['Sales'].str.replace('$', '') #Removing dollar signs\n"
     ]
    }
   ],
   "source": [
    "df = df.replace(',','', regex=True) #Removing commas\n",
    "df['Sales'] = df['Sales'].str.replace('$', '') #Removing dollar signs"
   ]
  },
  {
   "cell_type": "code",
   "execution_count": 27,
   "id": "6837590d",
   "metadata": {},
   "outputs": [
    {
     "data": {
      "text/html": [
       "<div>\n",
       "<style scoped>\n",
       "    .dataframe tbody tr th:only-of-type {\n",
       "        vertical-align: middle;\n",
       "    }\n",
       "\n",
       "    .dataframe tbody tr th {\n",
       "        vertical-align: top;\n",
       "    }\n",
       "\n",
       "    .dataframe thead th {\n",
       "        text-align: right;\n",
       "    }\n",
       "</style>\n",
       "<table border=\"1\" class=\"dataframe\">\n",
       "  <thead>\n",
       "    <tr style=\"text-align: right;\">\n",
       "      <th></th>\n",
       "      <th>Collections</th>\n",
       "      <th>Sales</th>\n",
       "      <th>Buyers</th>\n",
       "      <th>Txns</th>\n",
       "      <th>Owners</th>\n",
       "    </tr>\n",
       "  </thead>\n",
       "  <tbody>\n",
       "    <tr>\n",
       "      <th>0</th>\n",
       "      <td>Axie Infinity</td>\n",
       "      <td>4090222023</td>\n",
       "      <td>1790587</td>\n",
       "      <td>17670824</td>\n",
       "      <td>2130467</td>\n",
       "    </tr>\n",
       "    <tr>\n",
       "      <th>1</th>\n",
       "      <td>Bored Ape Yacht Club</td>\n",
       "      <td>2439754017</td>\n",
       "      <td>12052</td>\n",
       "      <td>32670</td>\n",
       "      <td>6586</td>\n",
       "    </tr>\n",
       "    <tr>\n",
       "      <th>2</th>\n",
       "      <td>CryptoPunks</td>\n",
       "      <td>2388467992</td>\n",
       "      <td>6076</td>\n",
       "      <td>22269</td>\n",
       "      <td>3804</td>\n",
       "    </tr>\n",
       "    <tr>\n",
       "      <th>3</th>\n",
       "      <td>Mutant Ape Yacht Club</td>\n",
       "      <td>1744822678</td>\n",
       "      <td>23768</td>\n",
       "      <td>51775</td>\n",
       "      <td>13121</td>\n",
       "    </tr>\n",
       "    <tr>\n",
       "      <th>4</th>\n",
       "      <td>Art Blocks</td>\n",
       "      <td>1310734558</td>\n",
       "      <td>33549</td>\n",
       "      <td>184470</td>\n",
       "      <td>36091</td>\n",
       "    </tr>\n",
       "  </tbody>\n",
       "</table>\n",
       "</div>"
      ],
      "text/plain": [
       "             Collections       Sales   Buyers      Txns   Owners\n",
       "0          Axie Infinity  4090222023  1790587  17670824  2130467\n",
       "1   Bored Ape Yacht Club  2439754017    12052     32670     6586\n",
       "2            CryptoPunks  2388467992     6076     22269     3804\n",
       "3  Mutant Ape Yacht Club  1744822678    23768     51775    13121\n",
       "4             Art Blocks  1310734558    33549    184470    36091"
      ]
     },
     "execution_count": 27,
     "metadata": {},
     "output_type": "execute_result"
    }
   ],
   "source": [
    "df.head()"
   ]
  },
  {
   "cell_type": "code",
   "execution_count": 28,
   "id": "184cd96e",
   "metadata": {},
   "outputs": [],
   "source": [
    "df= df.dropna() "
   ]
  },
  {
   "cell_type": "code",
   "execution_count": 29,
   "id": "c5b26496",
   "metadata": {},
   "outputs": [],
   "source": [
    "df['Collections'] = df['Collections'].fillna('None')"
   ]
  },
  {
   "cell_type": "code",
   "execution_count": 30,
   "id": "4d20b1be",
   "metadata": {},
   "outputs": [
    {
     "data": {
      "text/html": [
       "<div>\n",
       "<style scoped>\n",
       "    .dataframe tbody tr th:only-of-type {\n",
       "        vertical-align: middle;\n",
       "    }\n",
       "\n",
       "    .dataframe tbody tr th {\n",
       "        vertical-align: top;\n",
       "    }\n",
       "\n",
       "    .dataframe thead th {\n",
       "        text-align: right;\n",
       "    }\n",
       "</style>\n",
       "<table border=\"1\" class=\"dataframe\">\n",
       "  <thead>\n",
       "    <tr style=\"text-align: right;\">\n",
       "      <th></th>\n",
       "      <th>Collections</th>\n",
       "      <th>Sales</th>\n",
       "      <th>Buyers</th>\n",
       "      <th>Txns</th>\n",
       "      <th>Owners</th>\n",
       "    </tr>\n",
       "  </thead>\n",
       "  <tbody>\n",
       "    <tr>\n",
       "      <th>0</th>\n",
       "      <td>Axie Infinity</td>\n",
       "      <td>4090222023</td>\n",
       "      <td>1790587</td>\n",
       "      <td>17670824</td>\n",
       "      <td>2130467</td>\n",
       "    </tr>\n",
       "    <tr>\n",
       "      <th>1</th>\n",
       "      <td>Bored Ape Yacht Club</td>\n",
       "      <td>2439754017</td>\n",
       "      <td>12052</td>\n",
       "      <td>32670</td>\n",
       "      <td>6586</td>\n",
       "    </tr>\n",
       "    <tr>\n",
       "      <th>2</th>\n",
       "      <td>CryptoPunks</td>\n",
       "      <td>2388467992</td>\n",
       "      <td>6076</td>\n",
       "      <td>22269</td>\n",
       "      <td>3804</td>\n",
       "    </tr>\n",
       "    <tr>\n",
       "      <th>3</th>\n",
       "      <td>Mutant Ape Yacht Club</td>\n",
       "      <td>1744822678</td>\n",
       "      <td>23768</td>\n",
       "      <td>51775</td>\n",
       "      <td>13121</td>\n",
       "    </tr>\n",
       "    <tr>\n",
       "      <th>4</th>\n",
       "      <td>Art Blocks</td>\n",
       "      <td>1310734558</td>\n",
       "      <td>33549</td>\n",
       "      <td>184470</td>\n",
       "      <td>36091</td>\n",
       "    </tr>\n",
       "  </tbody>\n",
       "</table>\n",
       "</div>"
      ],
      "text/plain": [
       "             Collections       Sales   Buyers      Txns   Owners\n",
       "0          Axie Infinity  4090222023  1790587  17670824  2130467\n",
       "1   Bored Ape Yacht Club  2439754017    12052     32670     6586\n",
       "2            CryptoPunks  2388467992     6076     22269     3804\n",
       "3  Mutant Ape Yacht Club  1744822678    23768     51775    13121\n",
       "4             Art Blocks  1310734558    33549    184470    36091"
      ]
     },
     "execution_count": 30,
     "metadata": {},
     "output_type": "execute_result"
    }
   ],
   "source": [
    "df.head()"
   ]
  },
  {
   "cell_type": "code",
   "execution_count": 31,
   "id": "a92fb525",
   "metadata": {},
   "outputs": [
    {
     "name": "stdout",
     "output_type": "stream",
     "text": [
      "<class 'pandas.core.frame.DataFrame'>\n",
      "Int64Index: 231 entries, 0 to 249\n",
      "Data columns (total 5 columns):\n",
      " #   Column       Non-Null Count  Dtype \n",
      "---  ------       --------------  ----- \n",
      " 0   Collections  231 non-null    object\n",
      " 1   Sales        231 non-null    object\n",
      " 2   Buyers       231 non-null    object\n",
      " 3   Txns         231 non-null    object\n",
      " 4   Owners       231 non-null    object\n",
      "dtypes: object(5)\n",
      "memory usage: 10.8+ KB\n"
     ]
    }
   ],
   "source": [
    "df.info()"
   ]
  },
  {
   "cell_type": "code",
   "execution_count": 32,
   "id": "b52c8fcb",
   "metadata": {},
   "outputs": [],
   "source": [
    "#Converting object to float for the numerical values\n",
    "df[\"Sales\"] = df[\"Sales\"].astype(int)\n",
    "df[\"Buyers\"] = df[\"Buyers\"].astype(int)\n",
    "df[\"Txns\"] = df[\"Txns\"].astype(int)\n",
    "df[\"Owners\"] = df[\"Owners\"].astype(int)"
   ]
  },
  {
   "cell_type": "code",
   "execution_count": 33,
   "id": "d5ca86f6",
   "metadata": {},
   "outputs": [
    {
     "name": "stdout",
     "output_type": "stream",
     "text": [
      "<class 'pandas.core.frame.DataFrame'>\n",
      "Int64Index: 231 entries, 0 to 249\n",
      "Data columns (total 5 columns):\n",
      " #   Column       Non-Null Count  Dtype \n",
      "---  ------       --------------  ----- \n",
      " 0   Collections  231 non-null    object\n",
      " 1   Sales        231 non-null    int64 \n",
      " 2   Buyers       231 non-null    int64 \n",
      " 3   Txns         231 non-null    int64 \n",
      " 4   Owners       231 non-null    int64 \n",
      "dtypes: int64(4), object(1)\n",
      "memory usage: 10.8+ KB\n"
     ]
    }
   ],
   "source": [
    "df.info()"
   ]
  },
  {
   "cell_type": "code",
   "execution_count": 34,
   "id": "ce1dac51",
   "metadata": {},
   "outputs": [
    {
     "data": {
      "text/html": [
       "<div>\n",
       "<style scoped>\n",
       "    .dataframe tbody tr th:only-of-type {\n",
       "        vertical-align: middle;\n",
       "    }\n",
       "\n",
       "    .dataframe tbody tr th {\n",
       "        vertical-align: top;\n",
       "    }\n",
       "\n",
       "    .dataframe thead th {\n",
       "        text-align: right;\n",
       "    }\n",
       "</style>\n",
       "<table border=\"1\" class=\"dataframe\">\n",
       "  <thead>\n",
       "    <tr style=\"text-align: right;\">\n",
       "      <th></th>\n",
       "      <th>Sales</th>\n",
       "      <th>Buyers</th>\n",
       "      <th>Txns</th>\n",
       "      <th>Owners</th>\n",
       "    </tr>\n",
       "  </thead>\n",
       "  <tbody>\n",
       "    <tr>\n",
       "      <th>count</th>\n",
       "      <td>2.310000e+02</td>\n",
       "      <td>2.310000e+02</td>\n",
       "      <td>2.310000e+02</td>\n",
       "      <td>2.310000e+02</td>\n",
       "    </tr>\n",
       "    <tr>\n",
       "      <th>mean</th>\n",
       "      <td>1.377520e+08</td>\n",
       "      <td>2.196901e+04</td>\n",
       "      <td>3.154530e+05</td>\n",
       "      <td>3.911334e+04</td>\n",
       "    </tr>\n",
       "    <tr>\n",
       "      <th>std</th>\n",
       "      <td>3.897715e+08</td>\n",
       "      <td>1.249546e+05</td>\n",
       "      <td>2.008909e+06</td>\n",
       "      <td>2.936604e+05</td>\n",
       "    </tr>\n",
       "    <tr>\n",
       "      <th>min</th>\n",
       "      <td>2.090187e+07</td>\n",
       "      <td>8.100000e+01</td>\n",
       "      <td>1.120000e+02</td>\n",
       "      <td>1.140000e+02</td>\n",
       "    </tr>\n",
       "    <tr>\n",
       "      <th>25%</th>\n",
       "      <td>2.976127e+07</td>\n",
       "      <td>5.324000e+03</td>\n",
       "      <td>1.311100e+04</td>\n",
       "      <td>3.253000e+03</td>\n",
       "    </tr>\n",
       "    <tr>\n",
       "      <th>50%</th>\n",
       "      <td>4.644460e+07</td>\n",
       "      <td>8.239000e+03</td>\n",
       "      <td>1.843700e+04</td>\n",
       "      <td>4.411000e+03</td>\n",
       "    </tr>\n",
       "    <tr>\n",
       "      <th>75%</th>\n",
       "      <td>8.767439e+07</td>\n",
       "      <td>1.120450e+04</td>\n",
       "      <td>2.460650e+04</td>\n",
       "      <td>5.719500e+03</td>\n",
       "    </tr>\n",
       "    <tr>\n",
       "      <th>max</th>\n",
       "      <td>4.090222e+09</td>\n",
       "      <td>1.790587e+06</td>\n",
       "      <td>2.181756e+07</td>\n",
       "      <td>3.843236e+06</td>\n",
       "    </tr>\n",
       "  </tbody>\n",
       "</table>\n",
       "</div>"
      ],
      "text/plain": [
       "              Sales        Buyers          Txns        Owners\n",
       "count  2.310000e+02  2.310000e+02  2.310000e+02  2.310000e+02\n",
       "mean   1.377520e+08  2.196901e+04  3.154530e+05  3.911334e+04\n",
       "std    3.897715e+08  1.249546e+05  2.008909e+06  2.936604e+05\n",
       "min    2.090187e+07  8.100000e+01  1.120000e+02  1.140000e+02\n",
       "25%    2.976127e+07  5.324000e+03  1.311100e+04  3.253000e+03\n",
       "50%    4.644460e+07  8.239000e+03  1.843700e+04  4.411000e+03\n",
       "75%    8.767439e+07  1.120450e+04  2.460650e+04  5.719500e+03\n",
       "max    4.090222e+09  1.790587e+06  2.181756e+07  3.843236e+06"
      ]
     },
     "execution_count": 34,
     "metadata": {},
     "output_type": "execute_result"
    }
   ],
   "source": [
    "df.describe()"
   ]
  },
  {
   "cell_type": "code",
   "execution_count": 35,
   "id": "4f84cddc",
   "metadata": {},
   "outputs": [],
   "source": [
    "X = df\n",
    "y = df[\"Collections\"]"
   ]
  },
  {
   "cell_type": "code",
   "execution_count": 36,
   "id": "72929bd5",
   "metadata": {},
   "outputs": [],
   "source": [
    "encoder = LabelEncoder()  #Encoding Categorical Value, which in this case is Collections\n",
    "X['Collections'] = encoder.fit_transform(X['Collections'])\n",
    "y = encoder.transform(y)"
   ]
  },
  {
   "cell_type": "code",
   "execution_count": 37,
   "id": "9d62c06e",
   "metadata": {},
   "outputs": [
    {
     "name": "stdout",
     "output_type": "stream",
     "text": [
      "<class 'pandas.core.frame.DataFrame'>\n",
      "Int64Index: 231 entries, 0 to 249\n",
      "Data columns (total 5 columns):\n",
      " #   Column       Non-Null Count  Dtype\n",
      "---  ------       --------------  -----\n",
      " 0   Collections  231 non-null    int64\n",
      " 1   Sales        231 non-null    int64\n",
      " 2   Buyers       231 non-null    int64\n",
      " 3   Txns         231 non-null    int64\n",
      " 4   Owners       231 non-null    int64\n",
      "dtypes: int64(5)\n",
      "memory usage: 10.8 KB\n"
     ]
    }
   ],
   "source": [
    "X.info()"
   ]
  },
  {
   "cell_type": "code",
   "execution_count": 38,
   "id": "2f85fba4",
   "metadata": {},
   "outputs": [
    {
     "data": {
      "text/html": [
       "<div>\n",
       "<style scoped>\n",
       "    .dataframe tbody tr th:only-of-type {\n",
       "        vertical-align: middle;\n",
       "    }\n",
       "\n",
       "    .dataframe tbody tr th {\n",
       "        vertical-align: top;\n",
       "    }\n",
       "\n",
       "    .dataframe thead th {\n",
       "        text-align: right;\n",
       "    }\n",
       "</style>\n",
       "<table border=\"1\" class=\"dataframe\">\n",
       "  <thead>\n",
       "    <tr style=\"text-align: right;\">\n",
       "      <th></th>\n",
       "      <th>Collections</th>\n",
       "      <th>Sales</th>\n",
       "      <th>Buyers</th>\n",
       "      <th>Txns</th>\n",
       "      <th>Owners</th>\n",
       "    </tr>\n",
       "  </thead>\n",
       "  <tbody>\n",
       "    <tr>\n",
       "      <th>0</th>\n",
       "      <td>19</td>\n",
       "      <td>4090222023</td>\n",
       "      <td>1790587</td>\n",
       "      <td>17670824</td>\n",
       "      <td>2130467</td>\n",
       "    </tr>\n",
       "    <tr>\n",
       "      <th>1</th>\n",
       "      <td>28</td>\n",
       "      <td>2439754017</td>\n",
       "      <td>12052</td>\n",
       "      <td>32670</td>\n",
       "      <td>6586</td>\n",
       "    </tr>\n",
       "    <tr>\n",
       "      <th>2</th>\n",
       "      <td>53</td>\n",
       "      <td>2388467992</td>\n",
       "      <td>6076</td>\n",
       "      <td>22269</td>\n",
       "      <td>3804</td>\n",
       "    </tr>\n",
       "    <tr>\n",
       "      <th>3</th>\n",
       "      <td>138</td>\n",
       "      <td>1744822678</td>\n",
       "      <td>23768</td>\n",
       "      <td>51775</td>\n",
       "      <td>13121</td>\n",
       "    </tr>\n",
       "    <tr>\n",
       "      <th>4</th>\n",
       "      <td>16</td>\n",
       "      <td>1310734558</td>\n",
       "      <td>33549</td>\n",
       "      <td>184470</td>\n",
       "      <td>36091</td>\n",
       "    </tr>\n",
       "  </tbody>\n",
       "</table>\n",
       "</div>"
      ],
      "text/plain": [
       "   Collections       Sales   Buyers      Txns   Owners\n",
       "0           19  4090222023  1790587  17670824  2130467\n",
       "1           28  2439754017    12052     32670     6586\n",
       "2           53  2388467992     6076     22269     3804\n",
       "3          138  1744822678    23768     51775    13121\n",
       "4           16  1310734558    33549    184470    36091"
      ]
     },
     "execution_count": 38,
     "metadata": {},
     "output_type": "execute_result"
    }
   ],
   "source": [
    "X.head()"
   ]
  },
  {
   "cell_type": "code",
   "execution_count": 39,
   "id": "fad302e0",
   "metadata": {},
   "outputs": [
    {
     "data": {
      "text/html": [
       "<div>\n",
       "<style scoped>\n",
       "    .dataframe tbody tr th:only-of-type {\n",
       "        vertical-align: middle;\n",
       "    }\n",
       "\n",
       "    .dataframe tbody tr th {\n",
       "        vertical-align: top;\n",
       "    }\n",
       "\n",
       "    .dataframe thead tr th {\n",
       "        text-align: left;\n",
       "    }\n",
       "</style>\n",
       "<table border=\"1\" class=\"dataframe\">\n",
       "  <thead>\n",
       "    <tr>\n",
       "      <th></th>\n",
       "      <th>Collections</th>\n",
       "      <th>Sales</th>\n",
       "      <th>Buyers</th>\n",
       "      <th>Txns</th>\n",
       "      <th>Owners</th>\n",
       "    </tr>\n",
       "  </thead>\n",
       "  <tbody>\n",
       "    <tr>\n",
       "      <th>0</th>\n",
       "      <td>0.082609</td>\n",
       "      <td>1.000000</td>\n",
       "      <td>1.000000</td>\n",
       "      <td>0.809935</td>\n",
       "      <td>0.554329</td>\n",
       "    </tr>\n",
       "    <tr>\n",
       "      <th>1</th>\n",
       "      <td>0.121739</td>\n",
       "      <td>0.594412</td>\n",
       "      <td>0.006686</td>\n",
       "      <td>0.001492</td>\n",
       "      <td>0.001684</td>\n",
       "    </tr>\n",
       "    <tr>\n",
       "      <th>2</th>\n",
       "      <td>0.230435</td>\n",
       "      <td>0.581809</td>\n",
       "      <td>0.003348</td>\n",
       "      <td>0.001016</td>\n",
       "      <td>0.000960</td>\n",
       "    </tr>\n",
       "    <tr>\n",
       "      <th>3</th>\n",
       "      <td>0.600000</td>\n",
       "      <td>0.423639</td>\n",
       "      <td>0.013229</td>\n",
       "      <td>0.002368</td>\n",
       "      <td>0.003384</td>\n",
       "    </tr>\n",
       "    <tr>\n",
       "      <th>4</th>\n",
       "      <td>0.069565</td>\n",
       "      <td>0.316965</td>\n",
       "      <td>0.018692</td>\n",
       "      <td>0.008450</td>\n",
       "      <td>0.009361</td>\n",
       "    </tr>\n",
       "  </tbody>\n",
       "</table>\n",
       "</div>"
      ],
      "text/plain": [
       "  Collections     Sales    Buyers      Txns    Owners\n",
       "0    0.082609  1.000000  1.000000  0.809935  0.554329\n",
       "1    0.121739  0.594412  0.006686  0.001492  0.001684\n",
       "2    0.230435  0.581809  0.003348  0.001016  0.000960\n",
       "3    0.600000  0.423639  0.013229  0.002368  0.003384\n",
       "4    0.069565  0.316965  0.018692  0.008450  0.009361"
      ]
     },
     "execution_count": 39,
     "metadata": {},
     "output_type": "execute_result"
    }
   ],
   "source": [
    "# Feature Scaling\n",
    "col = X.columns\n",
    "min_max = MinMaxScaler()\n",
    "X = min_max.fit_transform(X)\n",
    "X = pd.DataFrame(X, columns=[col])\n",
    "X.head()"
   ]
  },
  {
   "cell_type": "code",
   "execution_count": 40,
   "id": "0939c93f",
   "metadata": {},
   "outputs": [
    {
     "name": "stderr",
     "output_type": "stream",
     "text": [
      "/Library/Frameworks/Python.framework/Versions/3.10/lib/python3.10/site-packages/sklearn/cluster/_kmeans.py:870: FutureWarning: The default value of `n_init` will change from 10 to 'auto' in 1.4. Set the value of `n_init` explicitly to suppress the warning\n",
      "  warnings.warn(\n"
     ]
    },
    {
     "data": {
      "text/html": [
       "<style>#sk-container-id-2 {color: black;background-color: white;}#sk-container-id-2 pre{padding: 0;}#sk-container-id-2 div.sk-toggleable {background-color: white;}#sk-container-id-2 label.sk-toggleable__label {cursor: pointer;display: block;width: 100%;margin-bottom: 0;padding: 0.3em;box-sizing: border-box;text-align: center;}#sk-container-id-2 label.sk-toggleable__label-arrow:before {content: \"▸\";float: left;margin-right: 0.25em;color: #696969;}#sk-container-id-2 label.sk-toggleable__label-arrow:hover:before {color: black;}#sk-container-id-2 div.sk-estimator:hover label.sk-toggleable__label-arrow:before {color: black;}#sk-container-id-2 div.sk-toggleable__content {max-height: 0;max-width: 0;overflow: hidden;text-align: left;background-color: #f0f8ff;}#sk-container-id-2 div.sk-toggleable__content pre {margin: 0.2em;color: black;border-radius: 0.25em;background-color: #f0f8ff;}#sk-container-id-2 input.sk-toggleable__control:checked~div.sk-toggleable__content {max-height: 200px;max-width: 100%;overflow: auto;}#sk-container-id-2 input.sk-toggleable__control:checked~label.sk-toggleable__label-arrow:before {content: \"▾\";}#sk-container-id-2 div.sk-estimator input.sk-toggleable__control:checked~label.sk-toggleable__label {background-color: #d4ebff;}#sk-container-id-2 div.sk-label input.sk-toggleable__control:checked~label.sk-toggleable__label {background-color: #d4ebff;}#sk-container-id-2 input.sk-hidden--visually {border: 0;clip: rect(1px 1px 1px 1px);clip: rect(1px, 1px, 1px, 1px);height: 1px;margin: -1px;overflow: hidden;padding: 0;position: absolute;width: 1px;}#sk-container-id-2 div.sk-estimator {font-family: monospace;background-color: #f0f8ff;border: 1px dotted black;border-radius: 0.25em;box-sizing: border-box;margin-bottom: 0.5em;}#sk-container-id-2 div.sk-estimator:hover {background-color: #d4ebff;}#sk-container-id-2 div.sk-parallel-item::after {content: \"\";width: 100%;border-bottom: 1px solid gray;flex-grow: 1;}#sk-container-id-2 div.sk-label:hover label.sk-toggleable__label {background-color: #d4ebff;}#sk-container-id-2 div.sk-serial::before {content: \"\";position: absolute;border-left: 1px solid gray;box-sizing: border-box;top: 0;bottom: 0;left: 50%;z-index: 0;}#sk-container-id-2 div.sk-serial {display: flex;flex-direction: column;align-items: center;background-color: white;padding-right: 0.2em;padding-left: 0.2em;position: relative;}#sk-container-id-2 div.sk-item {position: relative;z-index: 1;}#sk-container-id-2 div.sk-parallel {display: flex;align-items: stretch;justify-content: center;background-color: white;position: relative;}#sk-container-id-2 div.sk-item::before, #sk-container-id-2 div.sk-parallel-item::before {content: \"\";position: absolute;border-left: 1px solid gray;box-sizing: border-box;top: 0;bottom: 0;left: 50%;z-index: -1;}#sk-container-id-2 div.sk-parallel-item {display: flex;flex-direction: column;z-index: 1;position: relative;background-color: white;}#sk-container-id-2 div.sk-parallel-item:first-child::after {align-self: flex-end;width: 50%;}#sk-container-id-2 div.sk-parallel-item:last-child::after {align-self: flex-start;width: 50%;}#sk-container-id-2 div.sk-parallel-item:only-child::after {width: 0;}#sk-container-id-2 div.sk-dashed-wrapped {border: 1px dashed gray;margin: 0 0.4em 0.5em 0.4em;box-sizing: border-box;padding-bottom: 0.4em;background-color: white;}#sk-container-id-2 div.sk-label label {font-family: monospace;font-weight: bold;display: inline-block;line-height: 1.2em;}#sk-container-id-2 div.sk-label-container {text-align: center;}#sk-container-id-2 div.sk-container {/* jupyter's `normalize.less` sets `[hidden] { display: none; }` but bootstrap.min.css set `[hidden] { display: none !important; }` so we also need the `!important` here to be able to override the default hidden behavior on the sphinx rendered scikit-learn.org. See: https://github.com/scikit-learn/scikit-learn/issues/21755 */display: inline-block !important;position: relative;}#sk-container-id-2 div.sk-text-repr-fallback {display: none;}</style><div id=\"sk-container-id-2\" class=\"sk-top-container\"><div class=\"sk-text-repr-fallback\"><pre>KMeans(n_clusters=4, random_state=0)</pre><b>In a Jupyter environment, please rerun this cell to show the HTML representation or trust the notebook. <br />On GitHub, the HTML representation is unable to render, please try loading this page with nbviewer.org.</b></div><div class=\"sk-container\" hidden><div class=\"sk-item\"><div class=\"sk-estimator sk-toggleable\"><input class=\"sk-toggleable__control sk-hidden--visually\" id=\"sk-estimator-id-2\" type=\"checkbox\" checked><label for=\"sk-estimator-id-2\" class=\"sk-toggleable__label sk-toggleable__label-arrow\">KMeans</label><div class=\"sk-toggleable__content\"><pre>KMeans(n_clusters=4, random_state=0)</pre></div></div></div></div></div>"
      ],
      "text/plain": [
       "KMeans(n_clusters=4, random_state=0)"
      ]
     },
     "execution_count": 40,
     "metadata": {},
     "output_type": "execute_result"
    }
   ],
   "source": [
    "# Clustering process with n_clusters = 4\n",
    "\n",
    "from sklearn.cluster import KMeans\n",
    "\n",
    "K_means = KMeans(n_clusters=4, random_state=0) \n",
    "\n",
    "K_means.fit(X)"
   ]
  },
  {
   "cell_type": "code",
   "execution_count": 41,
   "id": "4c1c7dde",
   "metadata": {},
   "outputs": [
    {
     "data": {
      "text/plain": [
       "array([[0.50950725, 0.02135922, 0.00559303, 0.00790384, 0.00217333],\n",
       "       [0.17286736, 0.03669339, 0.00882641, 0.0076129 , 0.01642281],\n",
       "       [0.34782609, 0.62434483, 0.62466671, 0.90496736, 0.3674441 ],\n",
       "       [0.83913043, 0.01178308, 0.00610345, 0.00446189, 0.00198477]])"
      ]
     },
     "execution_count": 41,
     "metadata": {},
     "output_type": "execute_result"
    }
   ],
   "source": [
    "K_means.cluster_centers_"
   ]
  },
  {
   "cell_type": "code",
   "execution_count": 42,
   "id": "a9edc471",
   "metadata": {},
   "outputs": [
    {
     "data": {
      "text/plain": [
       "5.441597501060849"
      ]
     },
     "execution_count": 42,
     "metadata": {},
     "output_type": "execute_result"
    }
   ],
   "source": [
    "K_means.inertia_"
   ]
  },
  {
   "cell_type": "code",
   "execution_count": 46,
   "id": "b152d617",
   "metadata": {},
   "outputs": [
    {
     "name": "stdout",
     "output_type": "stream",
     "text": [
      "(1, 231)\n"
     ]
    }
   ],
   "source": [
    "label = K_means.labels_\n",
    "correct_label = sum(y == label)\n",
    "print((correct_labels, y.size))"
   ]
  },
  {
   "cell_type": "markdown",
   "id": "c18dbe99",
   "metadata": {},
   "source": [
    "Above Code says 1 out of 231 samples are categorized correctly, since each of the NFTs are different, so they each have a unique category, due to the exclusivity of NFTs"
   ]
  },
  {
   "cell_type": "code",
   "execution_count": 47,
   "id": "eae5b7ca",
   "metadata": {},
   "outputs": [
    {
     "name": "stdout",
     "output_type": "stream",
     "text": [
      "0.004329004329004329\n"
     ]
    }
   ],
   "source": [
    "print((correct_labels/float(y.size))) # Accuracy Score"
   ]
  },
  {
   "cell_type": "code",
   "execution_count": 53,
   "id": "46b99046",
   "metadata": {},
   "outputs": [
    {
     "data": {
      "image/png": "[encoded data removed]",
      "text/plain": [
       "<Figure size 640x480 with 1 Axes>"
      ]
     },
     "metadata": {},
     "output_type": "display_data"
    }
   ],
   "source": [
    "from sklearn.cluster import KMeans\n",
    "cs = []\n",
    "for i in range(1, 20):\n",
    "    K_means = KMeans(n_clusters = i, init = 'k-means++', max_iter = 200, n_init = 10, random_state = 0)\n",
    "    K_means.fit(X)\n",
    "    cs.append(kmeans.inertia_)\n",
    "plt.plot(range(1, 20), cs)\n",
    "plt.title('Optimal Clusters')\n",
    "plt.xlabel('Number of clusters')\n",
    "plt.show()"
   ]
  }
 ],
 "metadata": {
  "kernelspec": {
   "display_name": "Python 3 (ipykernel)",
   "language": "python",
   "name": "python3"
  },
  "language_info": {
   "codemirror_mode": {
    "name": "ipython",
    "version": 3
   },
   "file_extension": ".py",
   "mimetype": "text/x-python",
   "name": "python",
   "nbconvert_exporter": "python",
   "pygments_lexer": "ipython3",
   "version": "3.10.1"
  }
 },
 "nbformat": 4,
 "nbformat_minor": 5
}
